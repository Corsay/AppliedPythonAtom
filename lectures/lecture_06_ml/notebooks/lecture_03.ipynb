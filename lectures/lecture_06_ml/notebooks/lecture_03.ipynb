{
 "cells": [
  {
   "cell_type": "code",
   "execution_count": 1,
   "metadata": {
    "ExecuteTime": {
     "end_time": "2018-10-08T08:20:14.399748Z",
     "start_time": "2018-10-08T08:20:14.392707Z"
    }
   },
   "outputs": [],
   "source": [
    "import pandas as pd\n",
    "import numpy as np\n",
    "\n",
    "import matplotlib.pyplot as plt ### Библиотека для рисования графичков, гистограмм, и проч.\n",
    "\n",
    "### нужно писать магию чтобы графики рисовались внутри jupyter notebook \n",
    "%matplotlib inline              "
   ]
  },
  {
   "cell_type": "markdown",
   "metadata": {},
   "source": [
    "##### Игрушечный пример"
   ]
  },
  {
   "cell_type": "code",
   "execution_count": 13,
   "metadata": {},
   "outputs": [
    {
     "data": {
      "text/plain": [
       "52"
      ]
     },
     "execution_count": 13,
     "metadata": {},
     "output_type": "execute_result"
    }
   ],
   "source": [
    "import numpy as np\n",
    "import random\n",
    "np.random.seed(13)\n",
    "random.randint(1,100)"
   ]
  },
  {
   "cell_type": "code",
   "execution_count": 8,
   "metadata": {
    "ExecuteTime": {
     "end_time": "2018-10-08T09:32:16.466410Z",
     "start_time": "2018-10-08T09:32:16.436554Z"
    }
   },
   "outputs": [],
   "source": [
    "df = pd.DataFrame(\n",
    "    data=np.array([\n",
    "        ['f', 55, 171],\n",
    "        ['f', 54, 180],\n",
    "        ['f', 60, 173],\n",
    "        ['f', 59, 180],\n",
    "        ['m', 60, 177],\n",
    "        ['m', 65, 177],\n",
    "        ['m', 75, 165],\n",
    "        ['m', 83, 182],\n",
    "        ['m', 72, 165],\n",
    "        ['m', 85, 183],\n",
    "        ['f', 49, 172],\n",
    "        ['f', 55, 155],\n",
    "       ]).T, \n",
    "    index=['sex', 'weight', 'height']).T"
   ]
  },
  {
   "cell_type": "code",
   "execution_count": 3,
   "metadata": {
    "ExecuteTime": {
     "end_time": "2018-10-08T09:32:16.605209Z",
     "start_time": "2018-10-08T09:32:16.593279Z"
    }
   },
   "outputs": [
    {
     "data": {
      "text/html": [
       "<div>\n",
       "<style scoped>\n",
       "    .dataframe tbody tr th:only-of-type {\n",
       "        vertical-align: middle;\n",
       "    }\n",
       "\n",
       "    .dataframe tbody tr th {\n",
       "        vertical-align: top;\n",
       "    }\n",
       "\n",
       "    .dataframe thead th {\n",
       "        text-align: right;\n",
       "    }\n",
       "</style>\n",
       "<table border=\"1\" class=\"dataframe\">\n",
       "  <thead>\n",
       "    <tr style=\"text-align: right;\">\n",
       "      <th></th>\n",
       "      <th>sex</th>\n",
       "      <th>weight</th>\n",
       "      <th>height</th>\n",
       "    </tr>\n",
       "  </thead>\n",
       "  <tbody>\n",
       "    <tr>\n",
       "      <th>0</th>\n",
       "      <td>f</td>\n",
       "      <td>55</td>\n",
       "      <td>171</td>\n",
       "    </tr>\n",
       "    <tr>\n",
       "      <th>1</th>\n",
       "      <td>f</td>\n",
       "      <td>54</td>\n",
       "      <td>180</td>\n",
       "    </tr>\n",
       "    <tr>\n",
       "      <th>2</th>\n",
       "      <td>f</td>\n",
       "      <td>60</td>\n",
       "      <td>173</td>\n",
       "    </tr>\n",
       "    <tr>\n",
       "      <th>3</th>\n",
       "      <td>f</td>\n",
       "      <td>59</td>\n",
       "      <td>180</td>\n",
       "    </tr>\n",
       "    <tr>\n",
       "      <th>4</th>\n",
       "      <td>m</td>\n",
       "      <td>60</td>\n",
       "      <td>177</td>\n",
       "    </tr>\n",
       "    <tr>\n",
       "      <th>5</th>\n",
       "      <td>m</td>\n",
       "      <td>65</td>\n",
       "      <td>177</td>\n",
       "    </tr>\n",
       "    <tr>\n",
       "      <th>6</th>\n",
       "      <td>m</td>\n",
       "      <td>75</td>\n",
       "      <td>165</td>\n",
       "    </tr>\n",
       "    <tr>\n",
       "      <th>7</th>\n",
       "      <td>m</td>\n",
       "      <td>83</td>\n",
       "      <td>182</td>\n",
       "    </tr>\n",
       "    <tr>\n",
       "      <th>8</th>\n",
       "      <td>m</td>\n",
       "      <td>72</td>\n",
       "      <td>165</td>\n",
       "    </tr>\n",
       "    <tr>\n",
       "      <th>9</th>\n",
       "      <td>m</td>\n",
       "      <td>85</td>\n",
       "      <td>183</td>\n",
       "    </tr>\n",
       "    <tr>\n",
       "      <th>10</th>\n",
       "      <td>f</td>\n",
       "      <td>49</td>\n",
       "      <td>172</td>\n",
       "    </tr>\n",
       "    <tr>\n",
       "      <th>11</th>\n",
       "      <td>f</td>\n",
       "      <td>55</td>\n",
       "      <td>155</td>\n",
       "    </tr>\n",
       "  </tbody>\n",
       "</table>\n",
       "</div>"
      ],
      "text/plain": [
       "   sex weight height\n",
       "0    f     55    171\n",
       "1    f     54    180\n",
       "2    f     60    173\n",
       "3    f     59    180\n",
       "4    m     60    177\n",
       "5    m     65    177\n",
       "6    m     75    165\n",
       "7    m     83    182\n",
       "8    m     72    165\n",
       "9    m     85    183\n",
       "10   f     49    172\n",
       "11   f     55    155"
      ]
     },
     "execution_count": 3,
     "metadata": {},
     "output_type": "execute_result"
    }
   ],
   "source": [
    "df"
   ]
  },
  {
   "cell_type": "code",
   "execution_count": 4,
   "metadata": {
    "ExecuteTime": {
     "end_time": "2018-10-08T09:32:16.749683Z",
     "start_time": "2018-10-08T09:32:16.744015Z"
    }
   },
   "outputs": [],
   "source": [
    "df.weight = df.weight.astype(np.int32)\n",
    "df.height = df.height.astype(np.int32)"
   ]
  },
  {
   "cell_type": "code",
   "execution_count": 5,
   "metadata": {
    "ExecuteTime": {
     "end_time": "2018-10-08T16:58:41.962802Z",
     "start_time": "2018-10-08T16:58:41.722377Z"
    }
   },
   "outputs": [
    {
     "data": {
      "image/png": "[encoded data removed]",
      "text/plain": [
       "<Figure size 432x288 with 1 Axes>"
      ]
     },
     "metadata": {
      "needs_background": "light"
     },
     "output_type": "display_data"
    }
   ],
   "source": [
    "plt.scatter(df.weight[df.sex=='m'], df.height[df.sex=='m'], color = 'blue', label='male');\n",
    "plt.scatter(df.weight[df.sex=='f'], df.height[df.sex=='f'], color = 'red', label='female');\n",
    "plt.legend(loc=[1.1, 0.5]);\n",
    "plt.ylabel('рост');\n",
    "plt.xlabel('вес');"
   ]
  },
  {
   "cell_type": "code",
   "execution_count": 6,
   "metadata": {
    "ExecuteTime": {
     "end_time": "2018-10-08T16:58:47.024276Z",
     "start_time": "2018-10-08T16:58:46.787009Z"
    }
   },
   "outputs": [
    {
     "data": {
      "image/png": "[encoded data removed]",
      "text/plain": [
       "<Figure size 432x288 with 1 Axes>"
      ]
     },
     "metadata": {
      "needs_background": "light"
     },
     "output_type": "display_data"
    }
   ],
   "source": [
    "plt.scatter(df.weight[df.sex=='m'], df.height[df.sex=='m'], color = 'blue', label='male');\n",
    "plt.scatter(df.weight[df.sex=='f'], df.height[df.sex=='f'], color = 'red', label='female');\n",
    "\n",
    "plt.scatter(65, 180, color = 'green', marker='x', label='???');\n",
    "plt.legend(loc=[1.1, 0.5]);\n",
    "plt.ylabel('рост');\n",
    "plt.xlabel('вес');"
   ]
  },
  {
   "cell_type": "markdown",
   "metadata": {},
   "source": [
    "________"
   ]
  },
  {
   "cell_type": "markdown",
   "metadata": {},
   "source": [
    "## Попредсказываем?"
   ]
  },
  {
   "cell_type": "markdown",
   "metadata": {},
   "source": [
    "##### пандас умеет в интернет"
   ]
  },
  {
   "cell_type": "code",
   "execution_count": null,
   "metadata": {
    "ExecuteTime": {
     "end_time": "2018-10-09T13:47:21.157587Z",
     "start_time": "2018-10-09T13:47:20.908140Z"
    }
   },
   "outputs": [],
   "source": [
    "df = pd.read_csv('https://raw.githubusercontent.com/rmcelreath/rethinking/master/data/Howell1.csv', sep=';')\n",
    "df = df[np.logical_and(df.age > 18, df.age < 50)] "
   ]
  },
  {
   "cell_type": "code",
   "execution_count": null,
   "metadata": {
    "ExecuteTime": {
     "end_time": "2018-10-09T13:47:21.162107Z",
     "start_time": "2018-10-09T13:47:21.158880Z"
    }
   },
   "outputs": [],
   "source": [
    "df.shape"
   ]
  },
  {
   "cell_type": "code",
   "execution_count": null,
   "metadata": {
    "ExecuteTime": {
     "end_time": "2018-10-09T14:54:03.880255Z",
     "start_time": "2018-10-09T14:54:03.869054Z"
    }
   },
   "outputs": [],
   "source": [
    "df_train = df.loc[:100]\n",
    "df_test = df.loc[150:180]"
   ]
  },
  {
   "cell_type": "code",
   "execution_count": null,
   "metadata": {
    "ExecuteTime": {
     "end_time": "2018-10-09T14:54:04.431081Z",
     "start_time": "2018-10-09T14:54:04.412081Z"
    }
   },
   "outputs": [],
   "source": [
    "df_train.head()"
   ]
  },
  {
   "cell_type": "code",
   "execution_count": null,
   "metadata": {
    "ExecuteTime": {
     "end_time": "2018-10-09T14:54:04.997431Z",
     "start_time": "2018-10-09T14:54:04.980610Z"
    }
   },
   "outputs": [],
   "source": [
    "def plot(df):\n",
    "    plt.scatter(df.weight[df.male==1], df.height[df.male==1], color = 'blue', label='male');\n",
    "    plt.scatter(df.weight[df.male==0], df.height[df.male==0], color = 'red', label='female');\n",
    "    plt.legend(loc=[1.1, 0.5]);\n",
    "    plt.ylabel('рост');\n",
    "    plt.xlabel('вес');"
   ]
  },
  {
   "cell_type": "code",
   "execution_count": null,
   "metadata": {
    "ExecuteTime": {
     "end_time": "2018-10-09T14:54:05.709975Z",
     "start_time": "2018-10-09T14:54:05.437294Z"
    }
   },
   "outputs": [],
   "source": [
    "plot(df_train)"
   ]
  },
  {
   "cell_type": "code",
   "execution_count": null,
   "metadata": {
    "ExecuteTime": {
     "end_time": "2018-10-09T14:54:07.370512Z",
     "start_time": "2018-10-09T14:54:07.133605Z"
    },
    "scrolled": true
   },
   "outputs": [],
   "source": [
    "plot(df_test)"
   ]
  },
  {
   "cell_type": "code",
   "execution_count": null,
   "metadata": {
    "ExecuteTime": {
     "end_time": "2018-10-09T15:19:24.575029Z",
     "start_time": "2018-10-09T15:19:24.334667Z"
    }
   },
   "outputs": [],
   "source": [
    "plt.scatter(df_test.weight[df_test.male==1], df_test.height[df_test.male==1], color = 'blue', label='male');\n",
    "plt.scatter(df_test.weight[df_test.male==0], df_test.height[df_test.male==0], color = 'red', label='female');\n",
    "\n",
    "plt.scatter(55, 163, color = 'black', marker='x', label='female');\n",
    "c1 = plt.Circle((55, 163), 3, color='r', fill=False)\n",
    "plt.gcf().gca().add_artist(c1)\n",
    "\n",
    "plt.legend(loc=[1.1, 0.5]);\n",
    "plt.ylabel('рост');\n",
    "plt.xlabel('вес');"
   ]
  },
  {
   "cell_type": "markdown",
   "metadata": {},
   "source": [
    "> Заметили почему наша окружность нарисовалась в виде эллипса?"
   ]
  },
  {
   "cell_type": "markdown",
   "metadata": {},
   "source": [
    "##### Напишем свой классификатор который считает N-ближайших соседей - делает предсказание на основании большинства его соседей."
   ]
  },
  {
   "cell_type": "code",
   "execution_count": null,
   "metadata": {
    "ExecuteTime": {
     "end_time": "2018-10-09T15:06:49.292975Z",
     "start_time": "2018-10-09T15:06:49.287780Z"
    }
   },
   "outputs": [],
   "source": [
    "np.argsort( np.array([5,2,2,0,0]) ) # возвращает индексы элементов так \n",
    "                                    # как если бы элементы были отсортированы в порядке неубывания"
   ]
  },
  {
   "cell_type": "code",
   "execution_count": null,
   "metadata": {
    "ExecuteTime": {
     "end_time": "2018-10-09T14:54:09.594584Z",
     "start_time": "2018-10-09T14:54:09.582462Z"
    }
   },
   "outputs": [],
   "source": [
    "np.bincount( np.array([5,2,2,0,0]) ) # возвращает число вхождений каждого значения\n",
    "                                     # длина массива - на один больше макс. значения"
   ]
  },
  {
   "cell_type": "code",
   "execution_count": null,
   "metadata": {},
   "outputs": [],
   "source": [
    "np.argmax( [1, 2, 200, 5, 2] )       # вернет позицию на которой стоит максимальный элемент"
   ]
  },
  {
   "cell_type": "code",
   "execution_count": null,
   "metadata": {
    "ExecuteTime": {
     "end_time": "2018-10-09T15:45:33.611581Z",
     "start_time": "2018-10-09T15:45:33.604872Z"
    }
   },
   "outputs": [],
   "source": [
    "X_train = df_train[['height', 'weight']].values\n",
    "y_train = df_train['male'].values\n",
    "\n",
    "X_test = df_test[['height', 'weight']].values"
   ]
  },
  {
   "cell_type": "code",
   "execution_count": null,
   "metadata": {
    "ExecuteTime": {
     "end_time": "2018-10-09T15:45:34.047247Z",
     "start_time": "2018-10-09T15:45:34.040091Z"
    }
   },
   "outputs": [],
   "source": [
    "X_train"
   ]
  },
  {
   "cell_type": "code",
   "execution_count": null,
   "metadata": {
    "ExecuteTime": {
     "end_time": "2018-10-09T15:45:34.575759Z",
     "start_time": "2018-10-09T15:45:34.569247Z"
    }
   },
   "outputs": [],
   "source": [
    "y_train"
   ]
  },
  {
   "cell_type": "markdown",
   "metadata": {},
   "source": [
    "_________"
   ]
  },
  {
   "cell_type": "code",
   "execution_count": null,
   "metadata": {},
   "outputs": [],
   "source": [
    "# стандартизуем\n",
    "\n",
    "mean_ = X_train.mean(axis=0)\n",
    "std_ = X_train.std(axis=0)\n",
    "\n",
    "X_train = (X_train - mean_) / std_\n",
    "X_test = (X_test - mean_) / std_"
   ]
  },
  {
   "cell_type": "raw",
   "metadata": {
    "ExecuteTime": {
     "end_time": "2018-10-09T15:26:23.011107Z",
     "start_time": "2018-10-09T15:26:22.994173Z"
    }
   },
   "source": [
    "# отшкалируем\n",
    "\n",
    "max_ = X_train.max(axis=0)\n",
    "min_ = X_train.min(axis=0)\n",
    "\n",
    "X_train = (X_train - min_) / (max_ - min_)\n",
    "X_test = (X_test - min_) / (max_ - min_)"
   ]
  },
  {
   "cell_type": "code",
   "execution_count": null,
   "metadata": {
    "ExecuteTime": {
     "end_time": "2018-10-09T15:26:25.901988Z",
     "start_time": "2018-10-09T15:26:25.863859Z"
    }
   },
   "outputs": [],
   "source": [
    "X_test"
   ]
  },
  {
   "cell_type": "markdown",
   "metadata": {},
   "source": [
    "________"
   ]
  },
  {
   "cell_type": "code",
   "execution_count": null,
   "metadata": {
    "ExecuteTime": {
     "end_time": "2018-10-09T15:26:29.062476Z",
     "start_time": "2018-10-09T15:26:29.028897Z"
    }
   },
   "outputs": [],
   "source": [
    "class KNN:\n",
    "    \"\"\"\n",
    "    simple KNN classifier\n",
    "    \"\"\"\n",
    "    \n",
    "    def __init__(self, n):\n",
    "        self.n = n\n",
    "        \n",
    "    def fit(self, X, y):\n",
    "        self.X = X\n",
    "        self.y = y\n",
    "    \n",
    "    def predict(self, X):\n",
    "        y = []\n",
    "        assert len(X.shape) == 2\n",
    "        for (h, w) in X:\n",
    "            ### Посчитаем расстояние от всех элементов в тренировочной выборке\n",
    "            # до текущего примера -> результат - вектор размерности трейна\n",
    "            d = np.sqrt((h - self.X[:, 0]) ** 2 + (w - self.X[:, 1]) ** 2)\n",
    "            ### Возьмем индексы n элементов, расстояние до которых минимально\n",
    "            ### результат -> вектор из n элементов\n",
    "            idx = np.argsort(d)[:self.n]\n",
    "            ### Посчитаем частоту меток для каждого случая \n",
    "            ### результат -> вектор длинны 2 который покажет\n",
    "            ### сколько соседей 0-го класса, сколько соседей 1-го класса.\n",
    "            counts = np.bincount(self.y[idx])\n",
    "            ### возьмем самый часто встречаемый в соседях класс.\n",
    "            prediction = np.argmax(counts)\n",
    "            y.append(prediction)\n",
    "        return y"
   ]
  },
  {
   "cell_type": "code",
   "execution_count": null,
   "metadata": {
    "ExecuteTime": {
     "end_time": "2018-10-09T15:26:29.946599Z",
     "start_time": "2018-10-09T15:26:29.944162Z"
    }
   },
   "outputs": [],
   "source": [
    "knn = KNN(8)"
   ]
  },
  {
   "cell_type": "markdown",
   "metadata": {},
   "source": [
    "_______"
   ]
  },
  {
   "cell_type": "code",
   "execution_count": null,
   "metadata": {},
   "outputs": [],
   "source": [
    "y_train[np.array([1, 2])]"
   ]
  },
  {
   "cell_type": "code",
   "execution_count": null,
   "metadata": {
    "ExecuteTime": {
     "end_time": "2018-10-09T15:26:30.914971Z",
     "start_time": "2018-10-09T15:26:30.907683Z"
    }
   },
   "outputs": [],
   "source": [
    "knn.fit(X_train, y_train)"
   ]
  },
  {
   "cell_type": "code",
   "execution_count": null,
   "metadata": {
    "ExecuteTime": {
     "end_time": "2018-10-09T15:26:31.086531Z",
     "start_time": "2018-10-09T15:26:31.083171Z"
    }
   },
   "outputs": [],
   "source": [
    "y_pred = knn.predict(X_test)"
   ]
  },
  {
   "cell_type": "code",
   "execution_count": null,
   "metadata": {
    "ExecuteTime": {
     "end_time": "2018-10-09T15:35:44.714816Z",
     "start_time": "2018-10-09T15:35:44.704200Z"
    }
   },
   "outputs": [],
   "source": [
    "'acc = %f' % np.mean(y_pred == df_test['male'].values)"
   ]
  },
  {
   "cell_type": "markdown",
   "metadata": {},
   "source": [
    "##### Круто. а где мы ошиблись ?"
   ]
  },
  {
   "cell_type": "code",
   "execution_count": null,
   "metadata": {
    "ExecuteTime": {
     "end_time": "2018-10-09T15:30:44.238147Z",
     "start_time": "2018-10-09T15:30:44.218588Z"
    }
   },
   "outputs": [],
   "source": [
    "df_test[y_pred != df_test['male'].values]"
   ]
  },
  {
   "cell_type": "markdown",
   "metadata": {},
   "source": [
    "> мальчик ростом 154 см с весом ~50 кг. - кажется сложный кейс."
   ]
  },
  {
   "cell_type": "markdown",
   "metadata": {},
   "source": [
    "__________"
   ]
  }
 ],
 "metadata": {
  "kernelspec": {
   "display_name": "atom",
   "language": "python",
   "name": "atom"
  },
  "language_info": {
   "codemirror_mode": {
    "name": "ipython",
    "version": 3
   },
   "file_extension": ".py",
   "mimetype": "text/x-python",
   "name": "python",
   "nbconvert_exporter": "python",
   "pygments_lexer": "ipython3",
   "version": "3.7.3"
  }
 },
 "nbformat": 4,
 "nbformat_minor": 2
}
