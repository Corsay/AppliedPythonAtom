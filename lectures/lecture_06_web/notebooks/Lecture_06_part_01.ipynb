{
 "cells": [
  {
   "cell_type": "markdown",
   "metadata": {},
   "source": [
    "```sh\n",
    "# Установка python3.7\n",
    "sudo apt update\n",
    "sudo add-apt-repository ppa:deadsnakes/ppa\n",
    "sudo apt install python3.7\n",
    "\n",
    "# Установка виртуального окружения\n",
    "sudo apt-get install python3.7-venv\n",
    "python3.7 -m venv ~/.virtualenvs/atomPython\n",
    "source ~/.virtualenvs/atomPython/bin/activate\n",
    "\n",
    "# Если уже устанавливали\n",
    "source ~/.virtualenvs/atomPython/bin/activate\n",
    "\n",
    "# Установка пакетов\n",
    "pip install -r requirements_web.txt\n",
    "ipython kernel install --user --name=atom\n",
    "```"
   ]
  },
  {
   "cell_type": "code",
   "execution_count": 1,
   "metadata": {},
   "outputs": [],
   "source": [
    "import requests"
   ]
  },
  {
   "cell_type": "code",
   "execution_count": null,
   "metadata": {},
   "outputs": [],
   "source": []
  },
  {
   "cell_type": "code",
   "execution_count": null,
   "metadata": {},
   "outputs": [],
   "source": []
  },
  {
   "cell_type": "code",
   "execution_count": null,
   "metadata": {},
   "outputs": [],
   "source": []
  },
  {
   "cell_type": "code",
   "execution_count": null,
   "metadata": {},
   "outputs": [],
   "source": []
  },
  {
   "cell_type": "code",
   "execution_count": null,
   "metadata": {
    "collapsed": true
   },
   "outputs": [],
   "source": [
    "#TODO отправим запрос на локальный сервер\n",
    "import requests\n",
    "requests.get('http://127.0.0.1:8081').content"
   ]
  },
  {
   "cell_type": "code",
   "execution_count": 3,
   "metadata": {},
   "outputs": [
    {
     "name": "stdout",
     "output_type": "stream",
     "text": [
      "b'Hello World'\n",
      "b'Goodbye World'\n",
      "b'Error'\n"
     ]
    }
   ],
   "source": [
    "#TODO отправим запрос на локальный сервер по пути /, /goodbye, /smth\n",
    "import requests\n",
    "print(requests.get('http://127.0.0.1:8081').content)\n",
    "print(requests.get('http://127.0.0.1:8081/goodbye').content)\n",
    "print(requests.get('http://127.0.0.1:8081/smth').content)"
   ]
  },
  {
   "cell_type": "code",
   "execution_count": 13,
   "metadata": {},
   "outputs": [
    {
     "data": {
      "text/plain": [
       "b'Nice'"
      ]
     },
     "execution_count": 13,
     "metadata": {},
     "output_type": "execute_result"
    }
   ],
   "source": [
    "import requests\n",
    "requests.post(\"http://10.3.13.108:8070/callme\", json={\"myhost\": '10.3.13.55', \"myport\": '8070'}).content"
   ]
  },
  {
   "cell_type": "code",
   "execution_count": null,
   "metadata": {},
   "outputs": [],
   "source": []
  }
 ],
 "metadata": {
  "anaconda-cloud": {},
  "kernelspec": {
   "display_name": "atom",
   "language": "python",
   "name": "atom"
  },
  "language_info": {
   "codemirror_mode": {
    "name": "ipython",
    "version": 3
   },
   "file_extension": ".py",
   "mimetype": "text/x-python",
   "name": "python",
   "nbconvert_exporter": "python",
   "pygments_lexer": "ipython3",
   "version": "3.7.2"
  }
 },
 "nbformat": 4,
 "nbformat_minor": 1
}
