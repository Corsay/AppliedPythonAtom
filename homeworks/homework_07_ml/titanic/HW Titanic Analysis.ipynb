{
 "cells": [
  {
   "cell_type": "markdown",
   "metadata": {},
   "source": [
    "**Kaggle** это самый крупный портал на котором проходят соревнования по машинному обучению\n",
    "(участвовать в них может любой). В качестве домашнего задания предлагается попытать свои силы\n",
    "на наборе данных **Титаник**.\n",
    "\n",
    "Начните выполнение этого задания с посещения этой страницы:\n",
    "\n",
    "https://www.kaggle.com/c/titanic\n",
    "\n",
    "1. Перейдя по этой ссылке вы попадете на вкладку **Overview**, в верхнем правом углу есть кнопка **Join competition**, после того как вы ее нажмете вы сможете скачать данные по выжившим в крушении Титаника в разделе **Data**.\n",
    "\n",
    "2. Там же в разделе **Data** в подразделе **Data description**, расположено описание всех признаков содержащихся в данных (в пункте **Data dictionary**). \n",
    "\n",
    "3. Раздел **Kernels** содержит готовые решения, опубликованные разными людьми ввиде jupyter notebook'ов (некоторые на языке R, большая часть на языке Python).\n",
    "\n",
    "4. Раздел **Discussion** - это форум посвященный данному соревнованию (Соревнование Titanic это учебное соревнование для всех).\n",
    "\n",
    "5. В разделе **Leaderboard** можно увидеть результаты других участников соревнования (на тестовой выборке). Не удивляйтесь большому количеству *идеальных* accuracy (categorization accuracy это тоже самое что и обычное accuracy), данные о пассажирах Титаника есть в открытом доступе и некоторые зачем то их сабмитят (время от времени админы подтирают такие строчки). \n",
    "\n",
    "-----------------------\n"
   ]
  },
  {
   "cell_type": "markdown",
   "metadata": {},
   "source": [
    "### Ваша ультимативная цель: провести анализ данных, обучить модель (подобрав параметры на кросс валидации), сделать предсказания на тестовом наборе данных и засабмитить их на Leaderboard что бы увидеть получившуюся accuracy.\n",
    "\n",
    "\n",
    "----------------------"
   ]
  },
  {
   "cell_type": "markdown",
   "metadata": {},
   "source": [
    "В этом ноутбуке (в котором вы сейчас ^_^) я проведу вас по основным этапам, но выполнить вы их должны будете самостоятельно.\n",
    "\n",
    "Итак наметим план:\n",
    "\n",
    "1. Скачаем данные: два .csv файла train.csv и test.csv, в файле test_data отсутствует колонка Survived (на них мы будем делать предсказания обученной моделью).\n",
    "2. Откроем набор данных train.csv в Jupyter notebook.\n",
    "3. Проведем Обзорный Анализ Данных (Exploratory Data Analysis сокращенно EDA)\n",
    "4. Обработаем категориальные признаки (обработаем пропуски в данных (если они есть))\n",
    "5. Обработаем числовые признаки (обработаем пропуски в данных (если они есть))\n",
    "6. Обучим 2 модели (или больше):\n",
    "    - Метод ближайшего соседа (подберем параметр k - число соседей, **на кросс-валидации**)\n",
    "    - Метод логистической регрессии (подберем параметры регуляризации - alpha, **на кросс-валидации**)\n",
    "7. Подобрав оптимальный набор параметров обучим наши модели на всех объектах из файла train.csv.\n",
    "8. Откроем набор данных test.csv в Jupyter notebook.\n",
    "9. Проведем шаги 4-6 над test.csv **аналогично тому как мы это делали на train.csv**. \n",
    "10. Сделаем предсказания с помощью моделей (обученных на шаге 7.) на обработанных test.csv.\n",
    "11. Сохраним предсказания в нужном формате и загрузим на Leaderboard на Kaggle.\n",
    "\n",
    "\n",
    "На всякий случай помните, что в этой домашке главными являются пункты 3-10 если у вас возникнут трудности со скачиванием данных или загрузкой результатов предсказания на Leadearboard смело пишите в __#hw_questions!!!!___\n",
    "\n",
    "Начнем"
   ]
  },
  {
   "cell_type": "markdown",
   "metadata": {},
   "source": [
    "# 1. Скачаем данные"
   ]
  },
  {
   "cell_type": "markdown",
   "metadata": {},
   "source": [
    "перйдите в раздел датасетс на странице конкурса и скачйте данные download_all - это если я забуду положить данные рядом.\n",
    "\n",
    "разархивируем скаченный архив в папку с **этим** ноутбуком (внутри появится папка titanic/)"
   ]
  },
  {
   "cell_type": "markdown",
   "metadata": {},
   "source": [
    "# 2. Откроем набор данных train.csv\n",
    "\n",
    "для этого воспользуемся библиотекой pandas\n",
    "для начало ее импортируем с именем pd.\n",
    "\n",
    "* Обратите внимание команда: **import pandas as pd** абсолютно аналогична последовательному применению двух команд:\n",
    "    * import pandas\n",
    "    * pd = pandas"
   ]
  },
  {
   "cell_type": "code",
   "execution_count": 1,
   "metadata": {
    "ExecuteTime": {
     "end_time": "2019-04-17T07:46:25.973068Z",
     "start_time": "2019-04-17T07:46:25.417945Z"
    }
   },
   "outputs": [],
   "source": [
    "# импортируем библиотеку pandas c именем pd\n",
    "\n",
    "import pandas as pd"
   ]
  },
  {
   "cell_type": "code",
   "execution_count": 2,
   "metadata": {
    "ExecuteTime": {
     "end_time": "2019-04-17T07:46:26.021591Z",
     "start_time": "2019-04-17T07:46:25.974361Z"
    }
   },
   "outputs": [],
   "source": [
    "# 1. откроем train.csv и сохраним его в переменную data_train\n",
    "# если вы разархивировали скаченный архив в папку с этим нотбуком\n",
    "# то нужный файл находится по пути titanic/train.csv\n",
    "\n",
    "# 2. используйте параметр index_col = 0\n",
    "\n",
    "\n",
    "data_train = pd.read_csv('titanic/train.csv', index_col=0)"
   ]
  },
  {
   "cell_type": "markdown",
   "metadata": {},
   "source": [
    "# 3. Проведем Обзорный Анализ Данных"
   ]
  },
  {
   "cell_type": "code",
   "execution_count": 3,
   "metadata": {
    "ExecuteTime": {
     "end_time": "2019-04-17T07:46:32.434166Z",
     "start_time": "2019-04-17T07:46:32.408090Z"
    }
   },
   "outputs": [
    {
     "data": {
      "text/html": [
       "<div>\n",
       "<style scoped>\n",
       "    .dataframe tbody tr th:only-of-type {\n",
       "        vertical-align: middle;\n",
       "    }\n",
       "\n",
       "    .dataframe tbody tr th {\n",
       "        vertical-align: top;\n",
       "    }\n",
       "\n",
       "    .dataframe thead th {\n",
       "        text-align: right;\n",
       "    }\n",
       "</style>\n",
       "<table border=\"1\" class=\"dataframe\">\n",
       "  <thead>\n",
       "    <tr style=\"text-align: right;\">\n",
       "      <th></th>\n",
       "      <th>Survived</th>\n",
       "      <th>Pclass</th>\n",
       "      <th>Name</th>\n",
       "      <th>Sex</th>\n",
       "      <th>Age</th>\n",
       "      <th>SibSp</th>\n",
       "      <th>Parch</th>\n",
       "      <th>Ticket</th>\n",
       "      <th>Fare</th>\n",
       "      <th>Cabin</th>\n",
       "      <th>Embarked</th>\n",
       "    </tr>\n",
       "    <tr>\n",
       "      <th>PassengerId</th>\n",
       "      <th></th>\n",
       "      <th></th>\n",
       "      <th></th>\n",
       "      <th></th>\n",
       "      <th></th>\n",
       "      <th></th>\n",
       "      <th></th>\n",
       "      <th></th>\n",
       "      <th></th>\n",
       "      <th></th>\n",
       "      <th></th>\n",
       "    </tr>\n",
       "  </thead>\n",
       "  <tbody>\n",
       "    <tr>\n",
       "      <th>1</th>\n",
       "      <td>0</td>\n",
       "      <td>3</td>\n",
       "      <td>Braund, Mr. Owen Harris</td>\n",
       "      <td>male</td>\n",
       "      <td>22.0</td>\n",
       "      <td>1</td>\n",
       "      <td>0</td>\n",
       "      <td>A/5 21171</td>\n",
       "      <td>7.2500</td>\n",
       "      <td>NaN</td>\n",
       "      <td>S</td>\n",
       "    </tr>\n",
       "    <tr>\n",
       "      <th>2</th>\n",
       "      <td>1</td>\n",
       "      <td>1</td>\n",
       "      <td>Cumings, Mrs. John Bradley (Florence Briggs Th...</td>\n",
       "      <td>female</td>\n",
       "      <td>38.0</td>\n",
       "      <td>1</td>\n",
       "      <td>0</td>\n",
       "      <td>PC 17599</td>\n",
       "      <td>71.2833</td>\n",
       "      <td>C85</td>\n",
       "      <td>C</td>\n",
       "    </tr>\n",
       "    <tr>\n",
       "      <th>3</th>\n",
       "      <td>1</td>\n",
       "      <td>3</td>\n",
       "      <td>Heikkinen, Miss. Laina</td>\n",
       "      <td>female</td>\n",
       "      <td>26.0</td>\n",
       "      <td>0</td>\n",
       "      <td>0</td>\n",
       "      <td>STON/O2. 3101282</td>\n",
       "      <td>7.9250</td>\n",
       "      <td>NaN</td>\n",
       "      <td>S</td>\n",
       "    </tr>\n",
       "    <tr>\n",
       "      <th>4</th>\n",
       "      <td>1</td>\n",
       "      <td>1</td>\n",
       "      <td>Futrelle, Mrs. Jacques Heath (Lily May Peel)</td>\n",
       "      <td>female</td>\n",
       "      <td>35.0</td>\n",
       "      <td>1</td>\n",
       "      <td>0</td>\n",
       "      <td>113803</td>\n",
       "      <td>53.1000</td>\n",
       "      <td>C123</td>\n",
       "      <td>S</td>\n",
       "    </tr>\n",
       "    <tr>\n",
       "      <th>5</th>\n",
       "      <td>0</td>\n",
       "      <td>3</td>\n",
       "      <td>Allen, Mr. William Henry</td>\n",
       "      <td>male</td>\n",
       "      <td>35.0</td>\n",
       "      <td>0</td>\n",
       "      <td>0</td>\n",
       "      <td>373450</td>\n",
       "      <td>8.0500</td>\n",
       "      <td>NaN</td>\n",
       "      <td>S</td>\n",
       "    </tr>\n",
       "  </tbody>\n",
       "</table>\n",
       "</div>"
      ],
      "text/plain": [
       "             Survived  Pclass  \\\n",
       "PassengerId                     \n",
       "1                   0       3   \n",
       "2                   1       1   \n",
       "3                   1       3   \n",
       "4                   1       1   \n",
       "5                   0       3   \n",
       "\n",
       "                                                          Name     Sex   Age  \\\n",
       "PassengerId                                                                    \n",
       "1                                      Braund, Mr. Owen Harris    male  22.0   \n",
       "2            Cumings, Mrs. John Bradley (Florence Briggs Th...  female  38.0   \n",
       "3                                       Heikkinen, Miss. Laina  female  26.0   \n",
       "4                 Futrelle, Mrs. Jacques Heath (Lily May Peel)  female  35.0   \n",
       "5                                     Allen, Mr. William Henry    male  35.0   \n",
       "\n",
       "             SibSp  Parch            Ticket     Fare Cabin Embarked  \n",
       "PassengerId                                                          \n",
       "1                1      0         A/5 21171   7.2500   NaN        S  \n",
       "2                1      0          PC 17599  71.2833   C85        C  \n",
       "3                0      0  STON/O2. 3101282   7.9250   NaN        S  \n",
       "4                1      0            113803  53.1000  C123        S  \n",
       "5                0      0            373450   8.0500   NaN        S  "
      ]
     },
     "execution_count": 3,
     "metadata": {},
     "output_type": "execute_result"
    }
   ],
   "source": [
    "# Воспользутесь методом .head() (не функцией, а методом!), который позволяет \n",
    "# посмотреть несколько первых записей в таблице данных (по умолчанию 5 первых записей)\n",
    "\n",
    "data_train.head()"
   ]
  },
  {
   "cell_type": "markdown",
   "metadata": {},
   "source": [
    "\n",
    "Для того чтобы понять какой столбец (признак) что означает почитайте об этом в разделе Data\n",
    "https://www.kaggle.com/c/titanic/data . Пока вы не запомните может быть полезно выписать название всех столбцов\n",
    "и что они значат прямо в нотбук:\n",
    "\n",
    "* Survived - \n",
    "* Pclass - \n",
    "* Name - \n",
    "* Sex - \n",
    "* Age - \n",
    "* SibSp - \n",
    "* Parch - \n",
    "* Ticket - \n",
    "* Fare - \n",
    "* Cabin - \n",
    "* Embarked -"
   ]
  },
  {
   "cell_type": "code",
   "execution_count": 4,
   "metadata": {
    "ExecuteTime": {
     "end_time": "2019-04-17T07:46:35.164790Z",
     "start_time": "2019-04-17T07:46:35.160763Z"
    }
   },
   "outputs": [
    {
     "data": {
      "text/plain": [
       "(891, 11)"
      ]
     },
     "execution_count": 4,
     "metadata": {},
     "output_type": "execute_result"
    }
   ],
   "source": [
    "# воспользуйте методом .shape чтобы посмотреть размеры свой таблицы данных\n",
    "\n",
    "data_train.shape"
   ]
  },
  {
   "cell_type": "markdown",
   "metadata": {},
   "source": [
    "несколько полезных методов которые помогут быстро посмотреть общие характеристики данных:\n",
    "\n",
    "1. .describe() - Выведет количество, среднее, стандартное отклонение, квантили, минимум и максимум всех **числовых признаков** (столбцов)\n",
    "2. .columns - это поле а не метод (в конце скобки не надо писать). Выведет название всех колонок.\n",
    "3. .count() - выведет количесто **не пропущенных** значений в каждом столбце (not nan значений)\n",
    "4. .nunique() - выведет количество уникальных значений в каждом столбце\n",
    "5. .dtypes - это поле а не метод (в конце скобки не надо писать). Выведет тип переменной хранящейся в каждом столбце\n"
   ]
  },
  {
   "cell_type": "code",
   "execution_count": 5,
   "metadata": {
    "ExecuteTime": {
     "end_time": "2019-04-17T07:46:36.782380Z",
     "start_time": "2019-04-17T07:46:36.730478Z"
    }
   },
   "outputs": [
    {
     "data": {
      "text/html": [
       "<div>\n",
       "<style scoped>\n",
       "    .dataframe tbody tr th:only-of-type {\n",
       "        vertical-align: middle;\n",
       "    }\n",
       "\n",
       "    .dataframe tbody tr th {\n",
       "        vertical-align: top;\n",
       "    }\n",
       "\n",
       "    .dataframe thead th {\n",
       "        text-align: right;\n",
       "    }\n",
       "</style>\n",
       "<table border=\"1\" class=\"dataframe\">\n",
       "  <thead>\n",
       "    <tr style=\"text-align: right;\">\n",
       "      <th></th>\n",
       "      <th>Survived</th>\n",
       "      <th>Pclass</th>\n",
       "      <th>Age</th>\n",
       "      <th>SibSp</th>\n",
       "      <th>Parch</th>\n",
       "      <th>Fare</th>\n",
       "    </tr>\n",
       "  </thead>\n",
       "  <tbody>\n",
       "    <tr>\n",
       "      <th>count</th>\n",
       "      <td>891.000000</td>\n",
       "      <td>891.000000</td>\n",
       "      <td>714.000000</td>\n",
       "      <td>891.000000</td>\n",
       "      <td>891.000000</td>\n",
       "      <td>891.000000</td>\n",
       "    </tr>\n",
       "    <tr>\n",
       "      <th>mean</th>\n",
       "      <td>0.383838</td>\n",
       "      <td>2.308642</td>\n",
       "      <td>29.699118</td>\n",
       "      <td>0.523008</td>\n",
       "      <td>0.381594</td>\n",
       "      <td>32.204208</td>\n",
       "    </tr>\n",
       "    <tr>\n",
       "      <th>std</th>\n",
       "      <td>0.486592</td>\n",
       "      <td>0.836071</td>\n",
       "      <td>14.526497</td>\n",
       "      <td>1.102743</td>\n",
       "      <td>0.806057</td>\n",
       "      <td>49.693429</td>\n",
       "    </tr>\n",
       "    <tr>\n",
       "      <th>min</th>\n",
       "      <td>0.000000</td>\n",
       "      <td>1.000000</td>\n",
       "      <td>0.420000</td>\n",
       "      <td>0.000000</td>\n",
       "      <td>0.000000</td>\n",
       "      <td>0.000000</td>\n",
       "    </tr>\n",
       "    <tr>\n",
       "      <th>25%</th>\n",
       "      <td>0.000000</td>\n",
       "      <td>2.000000</td>\n",
       "      <td>20.125000</td>\n",
       "      <td>0.000000</td>\n",
       "      <td>0.000000</td>\n",
       "      <td>7.910400</td>\n",
       "    </tr>\n",
       "    <tr>\n",
       "      <th>50%</th>\n",
       "      <td>0.000000</td>\n",
       "      <td>3.000000</td>\n",
       "      <td>28.000000</td>\n",
       "      <td>0.000000</td>\n",
       "      <td>0.000000</td>\n",
       "      <td>14.454200</td>\n",
       "    </tr>\n",
       "    <tr>\n",
       "      <th>75%</th>\n",
       "      <td>1.000000</td>\n",
       "      <td>3.000000</td>\n",
       "      <td>38.000000</td>\n",
       "      <td>1.000000</td>\n",
       "      <td>0.000000</td>\n",
       "      <td>31.000000</td>\n",
       "    </tr>\n",
       "    <tr>\n",
       "      <th>max</th>\n",
       "      <td>1.000000</td>\n",
       "      <td>3.000000</td>\n",
       "      <td>80.000000</td>\n",
       "      <td>8.000000</td>\n",
       "      <td>6.000000</td>\n",
       "      <td>512.329200</td>\n",
       "    </tr>\n",
       "  </tbody>\n",
       "</table>\n",
       "</div>"
      ],
      "text/plain": [
       "         Survived      Pclass         Age       SibSp       Parch        Fare\n",
       "count  891.000000  891.000000  714.000000  891.000000  891.000000  891.000000\n",
       "mean     0.383838    2.308642   29.699118    0.523008    0.381594   32.204208\n",
       "std      0.486592    0.836071   14.526497    1.102743    0.806057   49.693429\n",
       "min      0.000000    1.000000    0.420000    0.000000    0.000000    0.000000\n",
       "25%      0.000000    2.000000   20.125000    0.000000    0.000000    7.910400\n",
       "50%      0.000000    3.000000   28.000000    0.000000    0.000000   14.454200\n",
       "75%      1.000000    3.000000   38.000000    1.000000    0.000000   31.000000\n",
       "max      1.000000    3.000000   80.000000    8.000000    6.000000  512.329200"
      ]
     },
     "execution_count": 5,
     "metadata": {},
     "output_type": "execute_result"
    }
   ],
   "source": [
    "data_train.describe()"
   ]
  },
  {
   "cell_type": "code",
   "execution_count": 6,
   "metadata": {
    "ExecuteTime": {
     "end_time": "2019-04-17T07:46:37.764706Z",
     "start_time": "2019-04-17T07:46:37.754969Z"
    },
    "scrolled": false
   },
   "outputs": [
    {
     "data": {
      "text/plain": [
       "Int64Index([  6,  18,  20,  27,  29,  30,  32,  33,  37,  43,\n",
       "            ...\n",
       "            833, 838, 840, 847, 850, 860, 864, 869, 879, 889],\n",
       "           dtype='int64', name='PassengerId', length=177)"
      ]
     },
     "execution_count": 6,
     "metadata": {},
     "output_type": "execute_result"
    }
   ],
   "source": [
    "data_train['Age'][data_train.Age.isnull()].index"
   ]
  },
  {
   "cell_type": "code",
   "execution_count": null,
   "metadata": {},
   "outputs": [],
   "source": []
  },
  {
   "cell_type": "markdown",
   "metadata": {},
   "source": [
    "### Для построения картинок воспользуемся библиотекой matplotlib и библиотекой seaborn\n",
    "\n",
    "!pip install matplotlib\n",
    "!pip install seaborn\n",
    "\n",
    "Воспользуемся *магией* Jupyter notebook (google: Jupyter magic %) %matplotlib inline\n",
    "\n",
    "https://ipython.readthedocs.io/en/stable/interactive/magics.html\n",
    "\n",
    "Библиотека примеров seaborn:\n",
    "https://seaborn.pydata.org/examples/index.html\n",
    "\n",
    "Официальный тутриал seaborn:\n",
    "https://seaborn.pydata.org/tutorial.html\n",
    "\n",
    "##### просмотрите раздел Plotting functions туториала (это займет не более 15-20 минут)."
   ]
  },
  {
   "cell_type": "code",
   "execution_count": 7,
   "metadata": {
    "ExecuteTime": {
     "end_time": "2019-04-17T07:47:13.737956Z",
     "start_time": "2019-04-17T07:47:13.106921Z"
    }
   },
   "outputs": [],
   "source": [
    "# импортируем модуль pyplot библиотеки matplotlib с именем plt\n",
    "# импортируем библиотеку seaborn с именем sns\n",
    "\n",
    "# воспользуемся jupyter magic %matplotlib inline\n",
    "\n",
    "import matplotlib.pyplot as plt\n",
    "import seaborn as sns\n",
    "\n",
    "%matplotlib inline"
   ]
  },
  {
   "cell_type": "markdown",
   "metadata": {},
   "source": [
    "### 3.1. Воспользуемся функцией seaborn .countplot чтобы посмотреть долю выживших.\n",
    "\n",
    "Нам потребуются параметры:\n",
    "* **x** - какая величина будет расположена по оси X (в нашем случае это столбец Survived)\n",
    "* **data** - из какой переменной брать столбец переданный в **x**."
   ]
  },
  {
   "cell_type": "code",
   "execution_count": 8,
   "metadata": {
    "ExecuteTime": {
     "end_time": "2019-04-17T07:47:15.423671Z",
     "start_time": "2019-04-17T07:47:15.220680Z"
    }
   },
   "outputs": [
    {
     "data": {
      "image/png": "[encoded data removed]",
      "text/plain": [
       "<Figure size 432x288 with 1 Axes>"
      ]
     },
     "metadata": {
      "needs_background": "light"
     },
     "output_type": "display_data"
    }
   ],
   "source": [
    "# Воспользуйте функцией seaborn .countplot для того чтобы посомотреть долю Выживших\n",
    "\n",
    "sns.countplot('Survived', data=data_train);\n",
    "plt.show()"
   ]
  },
  {
   "cell_type": "markdown",
   "metadata": {},
   "source": [
    "Поскольку  на графике этого не видно, давайте посмотрим на точное соотношение Выживших и Погибших,\n",
    "воспользуемся методом\n",
    "\n",
    ".mean()\n",
    "\n",
    "на столбце Survived\n",
    "\n",
    "------\n",
    "доступ к столбцу Survived можно получить 2 способами:\n",
    "1. С использованием квадратных скобок: data[\"Survived\"]\n",
    "2. С использованием оператора . : data.Survived\n",
    "\n",
    "\n",
    "Кстате полученное значение вы могли уже видеть когда использовали метод .describe() ко всему набору данныз"
   ]
  },
  {
   "cell_type": "code",
   "execution_count": 9,
   "metadata": {
    "ExecuteTime": {
     "end_time": "2019-04-17T07:47:23.094993Z",
     "start_time": "2019-04-17T07:47:23.087912Z"
    }
   },
   "outputs": [
    {
     "data": {
      "text/plain": [
       "0.3838383838383838"
      ]
     },
     "execution_count": 9,
     "metadata": {},
     "output_type": "execute_result"
    }
   ],
   "source": [
    "# воспользуйтесь методом .mean()\n",
    "# на столбец Survived чтобы узнать долю выживших\n",
    "\n",
    "data_train.Survived.mean()"
   ]
  },
  {
   "cell_type": "markdown",
   "metadata": {},
   "source": [
    "### 3.2. Воспользуемся функцией seaborn .catplot чтобы посмотреть долю выживших среди женщин и мужчин.\n",
    "\n",
    "Нам потребуются параметры:\n",
    "* **x** - какая величина будет расположена по оси X (в нашем случае это столбец Sex)\n",
    "* **col** - будет построено несколько одинаковых графиков для различных значений переменной переданной в col (в нашем случае Survived)\n",
    "* **kind** - тип графика. Поскольку мы хотим посчитаь Количество выживших/погибших, установим его значение \"count\" \n",
    "* **data** - из какой переменной брать столбец переданный в **x, col**."
   ]
  },
  {
   "cell_type": "code",
   "execution_count": 10,
   "metadata": {
    "ExecuteTime": {
     "end_time": "2019-04-17T07:47:25.111000Z",
     "start_time": "2019-04-17T07:47:24.735467Z"
    }
   },
   "outputs": [
    {
     "data": {
      "image/png": "[encoded data removed]",
      "text/plain": [
       "<Figure size 720x360 with 2 Axes>"
      ]
     },
     "metadata": {
      "needs_background": "light"
     },
     "output_type": "display_data"
    }
   ],
   "source": [
    "# воспользуйтесь функцией catplot из пакета seaborn\n",
    "\n",
    "sns.catplot(x='Sex', col='Survived', kind='count', data=data_train);"
   ]
  },
  {
   "cell_type": "markdown",
   "metadata": {},
   "source": [
    "Поскольку на графике мы не видим точных значений в столбцах, давайте построим **таблицу сопряженности** (Она же **cross tabulation** или **contigency table** она же **pivot table**). \n",
    "\n",
    "https://en.wikipedia.org/wiki/Contingency_table\n",
    "\n",
    "Pandas позволяет сложные таблицы сопряженности со многими уровнями вложенности с использованием функции pandas .crosstab()\n",
    "\n",
    "Нам потребуются 2 параметра этой функции:\n",
    "\n",
    "1. index - список колонок которые будут расположены по вертикали (список может состоять из 1 элемента)\n",
    "2. columns - список колонок которые будут расположены по горизонтали (список может состоять из 1 элемента)\n",
    "Опционально (использовать отдельно друго от друга)\n",
    "3. margins - значение True будет показывать сумму по столбцам и строкам\n",
    "4. normalize - новый параметр позволят отнормировать значения на сумму по строке ('rows'), столбцу ('columns'), или на ту и другую ('all')\n",
    "\n",
    "Обратите внимание что crosstab() это функция библиотеки Pandas, а не метод \n",
    "объекта pandas.DataFrame. Может быть не очень понятно как ее использовать,\n",
    "если не сможете разобраться, ответ можно найти например тут  https://www.kaggle.com/dejavu23/titanic-eda-to-ml-beginner .\n",
    "**Но сначала попробуйте погуглить.**\n",
    "\n",
    "Документация на .crosstab()\n",
    "http://pandas.pydata.org/pandas-docs/stable/reference/api/pandas.crosstab.html"
   ]
  },
  {
   "cell_type": "code",
   "execution_count": 11,
   "metadata": {
    "ExecuteTime": {
     "end_time": "2019-04-17T07:48:30.535917Z",
     "start_time": "2019-04-17T07:48:30.510072Z"
    }
   },
   "outputs": [
    {
     "data": {
      "text/html": [
       "<div>\n",
       "<style scoped>\n",
       "    .dataframe tbody tr th:only-of-type {\n",
       "        vertical-align: middle;\n",
       "    }\n",
       "\n",
       "    .dataframe tbody tr th {\n",
       "        vertical-align: top;\n",
       "    }\n",
       "\n",
       "    .dataframe thead th {\n",
       "        text-align: right;\n",
       "    }\n",
       "</style>\n",
       "<table border=\"1\" class=\"dataframe\">\n",
       "  <thead>\n",
       "    <tr style=\"text-align: right;\">\n",
       "      <th>Survived</th>\n",
       "      <th>0</th>\n",
       "      <th>1</th>\n",
       "    </tr>\n",
       "    <tr>\n",
       "      <th>Sex</th>\n",
       "      <th></th>\n",
       "      <th></th>\n",
       "    </tr>\n",
       "  </thead>\n",
       "  <tbody>\n",
       "    <tr>\n",
       "      <th>female</th>\n",
       "      <td>81</td>\n",
       "      <td>233</td>\n",
       "    </tr>\n",
       "    <tr>\n",
       "      <th>male</th>\n",
       "      <td>468</td>\n",
       "      <td>109</td>\n",
       "    </tr>\n",
       "  </tbody>\n",
       "</table>\n",
       "</div>"
      ],
      "text/plain": [
       "Survived    0    1\n",
       "Sex               \n",
       "female     81  233\n",
       "male      468  109"
      ]
     },
     "execution_count": 11,
     "metadata": {},
     "output_type": "execute_result"
    }
   ],
   "source": [
    "# воспользуйтесь функцией crosstab() и построите таблицу сопряженности\n",
    "# для колнок Sex (по вертикали) и Survived (по горизонтали)\n",
    "\n",
    "pd.crosstab(index=data_train['Sex'],\n",
    "            columns=[data_train.Survived])"
   ]
  },
  {
   "cell_type": "code",
   "execution_count": 12,
   "metadata": {
    "ExecuteTime": {
     "end_time": "2019-04-17T07:48:35.627625Z",
     "start_time": "2019-04-17T07:48:35.551869Z"
    }
   },
   "outputs": [
    {
     "data": {
      "text/html": [
       "<div>\n",
       "<style scoped>\n",
       "    .dataframe tbody tr th:only-of-type {\n",
       "        vertical-align: middle;\n",
       "    }\n",
       "\n",
       "    .dataframe tbody tr th {\n",
       "        vertical-align: top;\n",
       "    }\n",
       "\n",
       "    .dataframe thead th {\n",
       "        text-align: right;\n",
       "    }\n",
       "</style>\n",
       "<table border=\"1\" class=\"dataframe\">\n",
       "  <thead>\n",
       "    <tr style=\"text-align: right;\">\n",
       "      <th></th>\n",
       "      <th>Pclass</th>\n",
       "      <th>1</th>\n",
       "      <th>2</th>\n",
       "      <th>3</th>\n",
       "      <th>All</th>\n",
       "    </tr>\n",
       "    <tr>\n",
       "      <th>Survived</th>\n",
       "      <th>Sex</th>\n",
       "      <th></th>\n",
       "      <th></th>\n",
       "      <th></th>\n",
       "      <th></th>\n",
       "    </tr>\n",
       "  </thead>\n",
       "  <tbody>\n",
       "    <tr>\n",
       "      <th rowspan=\"2\" valign=\"top\">0</th>\n",
       "      <th>female</th>\n",
       "      <td>3</td>\n",
       "      <td>6</td>\n",
       "      <td>72</td>\n",
       "      <td>81</td>\n",
       "    </tr>\n",
       "    <tr>\n",
       "      <th>male</th>\n",
       "      <td>77</td>\n",
       "      <td>91</td>\n",
       "      <td>300</td>\n",
       "      <td>468</td>\n",
       "    </tr>\n",
       "    <tr>\n",
       "      <th rowspan=\"2\" valign=\"top\">1</th>\n",
       "      <th>female</th>\n",
       "      <td>91</td>\n",
       "      <td>70</td>\n",
       "      <td>72</td>\n",
       "      <td>233</td>\n",
       "    </tr>\n",
       "    <tr>\n",
       "      <th>male</th>\n",
       "      <td>45</td>\n",
       "      <td>17</td>\n",
       "      <td>47</td>\n",
       "      <td>109</td>\n",
       "    </tr>\n",
       "    <tr>\n",
       "      <th>All</th>\n",
       "      <th></th>\n",
       "      <td>216</td>\n",
       "      <td>184</td>\n",
       "      <td>491</td>\n",
       "      <td>891</td>\n",
       "    </tr>\n",
       "  </tbody>\n",
       "</table>\n",
       "</div>"
      ],
      "text/plain": [
       "Pclass             1    2    3  All\n",
       "Survived Sex                       \n",
       "0        female    3    6   72   81\n",
       "         male     77   91  300  468\n",
       "1        female   91   70   72  233\n",
       "         male     45   17   47  109\n",
       "All              216  184  491  891"
      ]
     },
     "execution_count": 12,
     "metadata": {},
     "output_type": "execute_result"
    }
   ],
   "source": [
    "# воспользуйтесь функцией crosstab() и построите таблицу сопряженности \n",
    "# для колнок Sex и Survived (по вертикали) и Pclass (по горизонтали)\n",
    "# установите параметр margins=True\n",
    "\n",
    "\n",
    "pd.crosstab(index=[data_train.Survived, data_train['Sex']],\n",
    "            columns=[data_train.Pclass],\n",
    "            margins=True,)"
   ]
  },
  {
   "cell_type": "markdown",
   "metadata": {},
   "source": [
    "#### Вопрос: \n",
    "Что вы можете сказать выживаемости пассижиров разного класса и пола?"
   ]
  },
  {
   "cell_type": "markdown",
   "metadata": {
    "ExecuteTime": {
     "end_time": "2019-04-17T07:48:48.347909Z",
     "start_time": "2019-04-17T07:48:48.344595Z"
    }
   },
   "source": [
    "> Среди выживших больше всего женщин, причём первого класса"
   ]
  },
  {
   "cell_type": "markdown",
   "metadata": {},
   "source": [
    "Давайте визуализируем эту таблицу с помощью bar chart'a.\n",
    "Для этого мы снова воспользуемся функцией .catplot(), но теперь\n",
    "нам нужно будет воспользоваться другими параметрами:\n",
    "\n",
    "* **x** - какая величина будет расположена по оси X (в нашем случае это столбец Sex)\n",
    "* **y** - какой признак будет отвечать за величину колонок (bar'ов), используем Survived\n",
    "* **hue** - какой признак будет отвечать за цвет колонок (bar'ов), используем Pclass\n",
    "* **kind** - тип графика. в этот раз укажем \"bar\"\n",
    "* **data** - из какой переменной брать столбец переданный в **x, col**."
   ]
  },
  {
   "cell_type": "code",
   "execution_count": 13,
   "metadata": {
    "ExecuteTime": {
     "end_time": "2019-04-17T07:48:53.895156Z",
     "start_time": "2019-04-17T07:48:53.441444Z"
    }
   },
   "outputs": [
    {
     "data": {
      "image/png": "[encoded data removed]",
      "text/plain": [
       "<Figure size 402.375x360 with 1 Axes>"
      ]
     },
     "metadata": {
      "needs_background": "light"
     },
     "output_type": "display_data"
    }
   ],
   "source": [
    "# воспользуйтесь функцией .catplot() и визуализируйте результаты предыдущей таблицы в\n",
    "# виде bar chart'a\n",
    "\n",
    "sns.catplot(x=\"Sex\", y=\"Survived\", hue=\"Pclass\",\n",
    "            kind=\"bar\", data=data_train);"
   ]
  },
  {
   "cell_type": "markdown",
   "metadata": {},
   "source": [
    "одну и ту же информацию можно подать по-разному,\n",
    "выбирайте подходящий тип графика!\n",
    "\n",
    "поменяем параметр kind с 'bar' на 'point'"
   ]
  },
  {
   "cell_type": "code",
   "execution_count": 14,
   "metadata": {
    "ExecuteTime": {
     "end_time": "2019-04-17T07:49:28.327956Z",
     "start_time": "2019-04-17T07:49:27.850646Z"
    }
   },
   "outputs": [
    {
     "data": {
      "image/png": "[encoded data removed]",
      "text/plain": [
       "<Figure size 402.375x360 with 1 Axes>"
      ]
     },
     "metadata": {
      "needs_background": "light"
     },
     "output_type": "display_data"
    }
   ],
   "source": [
    "# воспользуйтесь функцией .catplot() и визуализируйте результаты предыдущей таблицы в\n",
    "# виде line chart'a\n",
    "\n",
    "sns.catplot(x=\"Sex\", y=\"Survived\", hue=\"Pclass\",\n",
    "            kind=\"point\", data=data_train);"
   ]
  },
  {
   "cell_type": "markdown",
   "metadata": {},
   "source": [
    "#### Вопрос:\n",
    "\n",
    "Какой из способов подачи информации вам показался наиболее информативным:\n",
    "1. Таблица\n",
    "2. Bar chart\n",
    "3. Line chart \n",
    "\n",
    "> Более информативен -> Bar chart"
   ]
  },
  {
   "cell_type": "markdown",
   "metadata": {},
   "source": [
    ".crosstab() позволяет не только считать количество внутри категорий,\n",
    "у него есть специальный параметр:\n",
    "1. values - можно передать сюда столбец для которого будет посчитана aggfunc внутри сложной категории задаваемой вашей таблице"
   ]
  },
  {
   "cell_type": "code",
   "execution_count": 15,
   "metadata": {
    "ExecuteTime": {
     "end_time": "2019-04-17T07:49:36.132014Z",
     "start_time": "2019-04-17T07:49:36.070917Z"
    }
   },
   "outputs": [
    {
     "data": {
      "text/html": [
       "<div>\n",
       "<style scoped>\n",
       "    .dataframe tbody tr th:only-of-type {\n",
       "        vertical-align: middle;\n",
       "    }\n",
       "\n",
       "    .dataframe tbody tr th {\n",
       "        vertical-align: top;\n",
       "    }\n",
       "\n",
       "    .dataframe thead th {\n",
       "        text-align: right;\n",
       "    }\n",
       "</style>\n",
       "<table border=\"1\" class=\"dataframe\">\n",
       "  <thead>\n",
       "    <tr style=\"text-align: right;\">\n",
       "      <th></th>\n",
       "      <th>Pclass</th>\n",
       "      <th>1</th>\n",
       "      <th>2</th>\n",
       "      <th>3</th>\n",
       "      <th>All</th>\n",
       "    </tr>\n",
       "    <tr>\n",
       "      <th>Survived</th>\n",
       "      <th>Sex</th>\n",
       "      <th></th>\n",
       "      <th></th>\n",
       "      <th></th>\n",
       "      <th></th>\n",
       "    </tr>\n",
       "  </thead>\n",
       "  <tbody>\n",
       "    <tr>\n",
       "      <th rowspan=\"2\" valign=\"top\">0</th>\n",
       "      <th>female</th>\n",
       "      <td>25.666667</td>\n",
       "      <td>36.000000</td>\n",
       "      <td>23.818182</td>\n",
       "      <td>25.046875</td>\n",
       "    </tr>\n",
       "    <tr>\n",
       "      <th>male</th>\n",
       "      <td>44.581967</td>\n",
       "      <td>33.369048</td>\n",
       "      <td>27.255814</td>\n",
       "      <td>31.618056</td>\n",
       "    </tr>\n",
       "    <tr>\n",
       "      <th rowspan=\"2\" valign=\"top\">1</th>\n",
       "      <th>female</th>\n",
       "      <td>34.939024</td>\n",
       "      <td>28.080882</td>\n",
       "      <td>19.329787</td>\n",
       "      <td>28.847716</td>\n",
       "    </tr>\n",
       "    <tr>\n",
       "      <th>male</th>\n",
       "      <td>36.248000</td>\n",
       "      <td>16.022000</td>\n",
       "      <td>22.274211</td>\n",
       "      <td>27.276022</td>\n",
       "    </tr>\n",
       "    <tr>\n",
       "      <th>All</th>\n",
       "      <th></th>\n",
       "      <td>38.233441</td>\n",
       "      <td>29.877630</td>\n",
       "      <td>25.140620</td>\n",
       "      <td>29.699118</td>\n",
       "    </tr>\n",
       "  </tbody>\n",
       "</table>\n",
       "</div>"
      ],
      "text/plain": [
       "Pclass                   1          2          3        All\n",
       "Survived Sex                                               \n",
       "0        female  25.666667  36.000000  23.818182  25.046875\n",
       "         male    44.581967  33.369048  27.255814  31.618056\n",
       "1        female  34.939024  28.080882  19.329787  28.847716\n",
       "         male    36.248000  16.022000  22.274211  27.276022\n",
       "All              38.233441  29.877630  25.140620  29.699118"
      ]
     },
     "execution_count": 15,
     "metadata": {},
     "output_type": "execute_result"
    }
   ],
   "source": [
    "# Постройте предыдующую таблицу\n",
    "# но теперь воспользуйтесь параметрами values (data_train['Age']) и aggfunc ('mean')\n",
    "\n",
    "pd.crosstab(index=[data_train.Survived, data_train['Sex']],\n",
    "            columns=[data_train.Pclass],\n",
    "            values=data_train['Age'],\n",
    "            aggfunc='mean',\n",
    "            margins=True)"
   ]
  },
  {
   "cell_type": "markdown",
   "metadata": {},
   "source": [
    "#### Вопрос: \n",
    "\n",
    "Каков средний возраст выживших женщин пассажиров 1 класса?\n"
   ]
  },
  {
   "cell_type": "markdown",
   "metadata": {
    "ExecuteTime": {
     "end_time": "2019-04-17T07:49:42.057007Z",
     "start_time": "2019-04-17T07:49:42.052430Z"
    }
   },
   "source": [
    "> 34.939024\t"
   ]
  },
  {
   "cell_type": "markdown",
   "metadata": {},
   "source": [
    "#### Факт:\n",
    "В пандасе есть еще одна функция которая позволяет строить такие таблицы она называется\n",
    "**.pivot_table** . У нее немножко другая сигнатура, но в целом с ее помощью можно делать тоже самое.\n",
    "У меня нет объяснения зачем их две.\n",
    "\n",
    "ps а еще есть функция **.pivot()** но она вроде умеет только две категории, а много не умеет"
   ]
  },
  {
   "cell_type": "code",
   "execution_count": null,
   "metadata": {},
   "outputs": [],
   "source": []
  },
  {
   "cell_type": "markdown",
   "metadata": {},
   "source": [
    "### 3.3 Давайте сравним стоимость проезда среди выживших и погибших\n",
    "\n",
    "Для этого воспользуемся функцией .catplot() с параметром kind = 'box'\n",
    "это позволит нам построить боксплот\n",
    "\n"
   ]
  },
  {
   "cell_type": "code",
   "execution_count": 16,
   "metadata": {
    "ExecuteTime": {
     "end_time": "2019-04-17T07:49:56.952152Z",
     "start_time": "2019-04-17T07:49:56.707433Z"
    }
   },
   "outputs": [
    {
     "data": {
      "image/png": "[encoded data removed]",
      "text/plain": [
       "<Figure size 360x360 with 1 Axes>"
      ]
     },
     "metadata": {
      "needs_background": "light"
     },
     "output_type": "display_data"
    }
   ],
   "source": [
    "# Воспользуйтесь функцией catplot() с параметром kind ='box'\n",
    "# и построите боксплот стоимости проезда (по оси y отложено Fare)\n",
    "# по оси x должны быть боксплоты соответствующие выжившим и погибшим (Survived)\n",
    "\n",
    "sns.catplot(x = 'Survived', y = 'Fare', data=data_train, kind=\"box\");"
   ]
  },
  {
   "cell_type": "markdown",
   "metadata": {},
   "source": [
    "#### Вопрос:\n",
    "\n",
    "Насколько получившийся график информативен?"
   ]
  },
  {
   "cell_type": "markdown",
   "metadata": {},
   "source": [
    "> недостаточно информативно (количественно)"
   ]
  },
  {
   "cell_type": "markdown",
   "metadata": {},
   "source": [
    "Давайте попытаемся его улучшить, построив вместо боксплота violin plot\n",
    "\n",
    "(тот же боксплот но показывающий функцию распределения вместо боксов).\n",
    "\n",
    "Для этого воспользуемся функцией .violinplot()"
   ]
  },
  {
   "cell_type": "code",
   "execution_count": 17,
   "metadata": {
    "ExecuteTime": {
     "end_time": "2019-04-17T07:50:10.396228Z",
     "start_time": "2019-04-17T07:50:10.176800Z"
    }
   },
   "outputs": [
    {
     "data": {
      "image/png": "[encoded data removed]",
      "text/plain": [
       "<Figure size 432x288 with 1 Axes>"
      ]
     },
     "metadata": {
      "needs_background": "light"
     },
     "output_type": "display_data"
    }
   ],
   "source": [
    "# Воспользуйтесь функцией violinplot()\n",
    "# и построите violin plot стоимости проезда (по оси y отложено Fare)\n",
    "# по оси x должны быть боксплоты соответствующие выжившим и погибшим (Survived)\n",
    "\n",
    "\n",
    "sns.violinplot(x = 'Survived', y = 'Fare',\n",
    "               data=data_train);"
   ]
  },
  {
   "cell_type": "markdown",
   "metadata": {},
   "source": [
    "#### Вопрос:\n",
    "\n",
    "Стал ли график понятнее?\n",
    "\n",
    "> более выражено количество выживших"
   ]
  },
  {
   "cell_type": "markdown",
   "metadata": {},
   "source": [
    "### 3.4. Давайте построим график совместного распределения Возраста и Стоимости проезда\n",
    "\n",
    "Для этого можно воспользоваться функцией jointplot\n",
    "Параметры .jointplot():\n",
    "\n",
    "* **x** - какая величина будет расположена по оси X \n",
    "* **y** - какая величина будет расположена по оси Y\n",
    "* **data** - из какой переменной брать столбец переданный в **x, y**.\n",
    "* **kind** - тип графика, scatter, kde, и другие\n"
   ]
  },
  {
   "cell_type": "code",
   "execution_count": 18,
   "metadata": {
    "ExecuteTime": {
     "end_time": "2019-04-17T07:50:24.683264Z",
     "start_time": "2019-04-17T07:50:23.967039Z"
    }
   },
   "outputs": [
    {
     "data": {
      "image/png": "[encoded data removed]",
      "text/plain": [
       "<Figure size 432x432 with 3 Axes>"
      ]
     },
     "metadata": {
      "needs_background": "light"
     },
     "output_type": "display_data"
    }
   ],
   "source": [
    "# Постройте график совместного распределения Возраста и Стоимости проезда\n",
    "# установите kind равным kde\n",
    "\n",
    "sns.jointplot(x=\"Age\", y=\"Fare\", data=data_train, kind=\"kde\");"
   ]
  },
  {
   "cell_type": "code",
   "execution_count": 19,
   "metadata": {
    "ExecuteTime": {
     "end_time": "2019-04-17T07:50:25.948997Z",
     "start_time": "2019-04-17T07:50:25.362600Z"
    }
   },
   "outputs": [
    {
     "data": {
      "image/png": "[encoded data removed]",
      "text/plain": [
       "<Figure size 432x432 with 3 Axes>"
      ]
     },
     "metadata": {
      "needs_background": "light"
     },
     "output_type": "display_data"
    }
   ],
   "source": [
    "# Постройте график совместного распределения Возраста и Стоимости проезда\n",
    "# установите kind равным scatter \n",
    "\n",
    "sns.jointplot(x=\"Age\", y=\"Fare\", data=data_train, kind=\"scatter\");"
   ]
  },
  {
   "cell_type": "markdown",
   "metadata": {},
   "source": [
    "Вариант с kind = 'kde' получается каким-то странным, вероятно дело в том,\n",
    "\n",
    "что есть несколько человек с аномально большой **Стоимостью проезда**,\n",
    "\n",
    "давайте выбросим те наблюдейния которые находятся правее \n",
    ".95-ого квантиля. \n",
    "\n",
    "Для этого воспользуемся методом **.quantile()** \n",
    "\n",
    "https://pandas.pydata.org/pandas-docs/stable/reference/api/pandas.Series.quantile.html\n",
    "\n",
    "\n",
    "PS предварительно необходимо импортировать библиотеку numpy с именем np"
   ]
  },
  {
   "cell_type": "code",
   "execution_count": 20,
   "metadata": {
    "ExecuteTime": {
     "end_time": "2019-04-17T07:50:35.923266Z",
     "start_time": "2019-04-17T07:50:35.911899Z"
    }
   },
   "outputs": [],
   "source": [
    "# импортируйте библиотеку numpy c именем np\n",
    "\n",
    "import numpy as np"
   ]
  },
  {
   "cell_type": "code",
   "execution_count": 21,
   "metadata": {
    "ExecuteTime": {
     "end_time": "2019-04-17T07:50:36.461184Z",
     "start_time": "2019-04-17T07:50:36.446120Z"
    }
   },
   "outputs": [
    {
     "name": "stdout",
     "output_type": "stream",
     "text": [
      "112.07915\n"
     ]
    }
   ],
   "source": [
    "# Воспользуйтесь методом .quantile\n",
    "# для обнаружения .95ого квантиля Стоимости проезда\n",
    "# сохраните результат в переменную q\n",
    "\n",
    "q = data_train[\"Fare\"].quantile(0.95)\n",
    "print(q)"
   ]
  },
  {
   "cell_type": "markdown",
   "metadata": {},
   "source": [
    "Для того чтобы найти индексы строк в которых значение в столбце Fare\n",
    "**больше** чем q мы можем воспользоваться функцией из пакета numpy where\n",
    "\n",
    "https://docs.scipy.org/doc/numpy/reference/generated/numpy.where.html\n",
    "\n",
    "она вернет вам tuple из одного элемента - нампаевского массива,\n",
    "\n",
    "сохраните этот нампаевский массив в переменную **ind** (не весь tuple а именно нампаевский массив)\n",
    "\n",
    "добавьте к нему 1, поскольку индексация ваших строк в data_train начинается не с 0 а с 1."
   ]
  },
  {
   "cell_type": "code",
   "execution_count": 22,
   "metadata": {
    "ExecuteTime": {
     "end_time": "2019-04-17T07:50:42.198589Z",
     "start_time": "2019-04-17T07:50:42.191862Z"
    }
   },
   "outputs": [],
   "source": [
    "# Найдите индексы строк в которых значение в столбце Fare больше чем q\n",
    "# для этого воспользуйтесь функцией np.where\n",
    "\n",
    "ind = np.where(data_train['Fare'] > q)[0]+1"
   ]
  },
  {
   "cell_type": "markdown",
   "metadata": {},
   "source": [
    "Для того чтобы выкинуть строки с индексами хранящимися в переменной **ind**\n",
    "\n",
    "воспользуемся методом .drop() https://pandas.pydata.org/pandas-docs/stable/reference/api/pandas.DataFrame.drop.html\n",
    "\n",
    "Нам нужно будет использовать два его параметра:\n",
    "\n",
    "* index - это могут быть индексы строк или номер/названия колонок, в зависимости от значения параметра axis (сюда передаем ind)\n",
    "* axis - по какому измерению выбрасывать (столбцы или строки), axis = 0 соответствует строкам, 1 - столбцам (устанавливаем 0)\n",
    "\n",
    "сохраним результат в переменную **data_new**"
   ]
  },
  {
   "cell_type": "code",
   "execution_count": 23,
   "metadata": {
    "ExecuteTime": {
     "end_time": "2019-04-17T07:50:44.612641Z",
     "start_time": "2019-04-17T07:50:44.600504Z"
    }
   },
   "outputs": [],
   "source": [
    "# Выбросите из data_train строки с номерами ind\n",
    "# и сохраните результат в переменную data_new\n",
    "\n",
    "data_new = data_train.drop(index=np.where(data_train['Fare'] > q)[0]+1, axis=0)"
   ]
  },
  {
   "cell_type": "code",
   "execution_count": 24,
   "metadata": {
    "ExecuteTime": {
     "end_time": "2019-04-17T07:50:46.313227Z",
     "start_time": "2019-04-17T07:50:45.436891Z"
    }
   },
   "outputs": [
    {
     "data": {
      "image/png": "[encoded data removed]",
      "text/plain": [
       "<Figure size 432x432 with 3 Axes>"
      ]
     },
     "metadata": {
      "needs_background": "light"
     },
     "output_type": "display_data"
    }
   ],
   "source": [
    "# Постройте еще один jointplot()\n",
    "# но на это раз в качестве переменной data передайте data_new\n",
    "\n",
    "sns.jointplot(x=\"Age\", y=\"Fare\", data=data_new, kind=\"kde\");"
   ]
  },
  {
   "cell_type": "raw",
   "metadata": {},
   "source": []
  },
  {
   "cell_type": "markdown",
   "metadata": {},
   "source": [
    "### 3.5. Постройте дополнительные графики которые сочтете нужными\n",
    "\n",
    "Например вы можете посмотреть:\n",
    "\n",
    "1. Зависила ли выживаемость от порта посадки\n",
    "2. Существует ли связь между длинной имени стоимостью билета\n",
    "3. Плыли ли на Титанике 3 поколения одной семьи (SibSp, Parch)\n",
    "4. Зависила ли выживаемость от возраста, пола, палубы, наличия семьи.\n",
    "5. -"
   ]
  },
  {
   "cell_type": "markdown",
   "metadata": {},
   "source": [
    "!"
   ]
  },
  {
   "cell_type": "markdown",
   "metadata": {},
   "source": [
    "> Отлично. Мы построили какие графики - мы проверили какие то гипотезы. Модели машинного обучения тупые, но мы умные, мы можем проверить гипотезы что есть зависимости от какого то признака и явно передать в модель эту гипотезу - например если подтвердится что выживаемость хоть как то зависит от возраста - надо передать в модель возраст, а если от пола и возраста, надо создать такой признак который бы хранил в себе эту информацию!"
   ]
  },
  {
   "cell_type": "code",
   "execution_count": null,
   "metadata": {},
   "outputs": [],
   "source": []
  },
  {
   "cell_type": "markdown",
   "metadata": {},
   "source": [
    "# 4. Обработаем категориальные признаки"
   ]
  },
  {
   "cell_type": "markdown",
   "metadata": {},
   "source": [
    "Для начала давайте создадим два листа, один будет содержать названия всех **Категориальных признаков**,\n",
    "а другой названия всех **Числовых признаков**, первый назовем **cat_features**, второй - **num_features**.\n",
    "\n",
    "Далее мы напишем две функции, одну для обработки **категориальных** признаков, другую для обработки **числовых**.\n",
    "\n",
    "PS не включайте Целевую переменную ни в один из этих списков!!"
   ]
  },
  {
   "cell_type": "code",
   "execution_count": 25,
   "metadata": {
    "ExecuteTime": {
     "end_time": "2019-04-17T07:54:28.646384Z",
     "start_time": "2019-04-17T07:54:28.621686Z"
    }
   },
   "outputs": [
    {
     "data": {
      "text/html": [
       "<div>\n",
       "<style scoped>\n",
       "    .dataframe tbody tr th:only-of-type {\n",
       "        vertical-align: middle;\n",
       "    }\n",
       "\n",
       "    .dataframe tbody tr th {\n",
       "        vertical-align: top;\n",
       "    }\n",
       "\n",
       "    .dataframe thead th {\n",
       "        text-align: right;\n",
       "    }\n",
       "</style>\n",
       "<table border=\"1\" class=\"dataframe\">\n",
       "  <thead>\n",
       "    <tr style=\"text-align: right;\">\n",
       "      <th></th>\n",
       "      <th>Survived</th>\n",
       "      <th>Pclass</th>\n",
       "      <th>Name</th>\n",
       "      <th>Sex</th>\n",
       "      <th>Age</th>\n",
       "      <th>SibSp</th>\n",
       "      <th>Parch</th>\n",
       "      <th>Ticket</th>\n",
       "      <th>Fare</th>\n",
       "      <th>Cabin</th>\n",
       "      <th>Embarked</th>\n",
       "    </tr>\n",
       "    <tr>\n",
       "      <th>PassengerId</th>\n",
       "      <th></th>\n",
       "      <th></th>\n",
       "      <th></th>\n",
       "      <th></th>\n",
       "      <th></th>\n",
       "      <th></th>\n",
       "      <th></th>\n",
       "      <th></th>\n",
       "      <th></th>\n",
       "      <th></th>\n",
       "      <th></th>\n",
       "    </tr>\n",
       "  </thead>\n",
       "  <tbody>\n",
       "    <tr>\n",
       "      <th>588</th>\n",
       "      <td>1</td>\n",
       "      <td>1</td>\n",
       "      <td>Frolicher-Stehli, Mr. Maxmillian</td>\n",
       "      <td>male</td>\n",
       "      <td>60.0</td>\n",
       "      <td>1</td>\n",
       "      <td>1</td>\n",
       "      <td>13567</td>\n",
       "      <td>79.2000</td>\n",
       "      <td>B41</td>\n",
       "      <td>C</td>\n",
       "    </tr>\n",
       "    <tr>\n",
       "      <th>202</th>\n",
       "      <td>0</td>\n",
       "      <td>3</td>\n",
       "      <td>Sage, Mr. Frederick</td>\n",
       "      <td>male</td>\n",
       "      <td>NaN</td>\n",
       "      <td>8</td>\n",
       "      <td>2</td>\n",
       "      <td>CA. 2343</td>\n",
       "      <td>69.5500</td>\n",
       "      <td>NaN</td>\n",
       "      <td>S</td>\n",
       "    </tr>\n",
       "    <tr>\n",
       "      <th>538</th>\n",
       "      <td>1</td>\n",
       "      <td>1</td>\n",
       "      <td>LeRoy, Miss. Bertha</td>\n",
       "      <td>female</td>\n",
       "      <td>30.0</td>\n",
       "      <td>0</td>\n",
       "      <td>0</td>\n",
       "      <td>PC 17761</td>\n",
       "      <td>106.4250</td>\n",
       "      <td>NaN</td>\n",
       "      <td>C</td>\n",
       "    </tr>\n",
       "    <tr>\n",
       "      <th>666</th>\n",
       "      <td>0</td>\n",
       "      <td>2</td>\n",
       "      <td>Hickman, Mr. Lewis</td>\n",
       "      <td>male</td>\n",
       "      <td>32.0</td>\n",
       "      <td>2</td>\n",
       "      <td>0</td>\n",
       "      <td>S.O.C. 14879</td>\n",
       "      <td>73.5000</td>\n",
       "      <td>NaN</td>\n",
       "      <td>S</td>\n",
       "    </tr>\n",
       "    <tr>\n",
       "      <th>479</th>\n",
       "      <td>0</td>\n",
       "      <td>3</td>\n",
       "      <td>Karlsson, Mr. Nils August</td>\n",
       "      <td>male</td>\n",
       "      <td>22.0</td>\n",
       "      <td>0</td>\n",
       "      <td>0</td>\n",
       "      <td>350060</td>\n",
       "      <td>7.5208</td>\n",
       "      <td>NaN</td>\n",
       "      <td>S</td>\n",
       "    </tr>\n",
       "    <tr>\n",
       "      <th>881</th>\n",
       "      <td>1</td>\n",
       "      <td>2</td>\n",
       "      <td>Shelley, Mrs. William (Imanita Parrish Hall)</td>\n",
       "      <td>female</td>\n",
       "      <td>25.0</td>\n",
       "      <td>0</td>\n",
       "      <td>1</td>\n",
       "      <td>230433</td>\n",
       "      <td>26.0000</td>\n",
       "      <td>NaN</td>\n",
       "      <td>S</td>\n",
       "    </tr>\n",
       "    <tr>\n",
       "      <th>550</th>\n",
       "      <td>1</td>\n",
       "      <td>2</td>\n",
       "      <td>Davies, Master. John Morgan Jr</td>\n",
       "      <td>male</td>\n",
       "      <td>8.0</td>\n",
       "      <td>1</td>\n",
       "      <td>1</td>\n",
       "      <td>C.A. 33112</td>\n",
       "      <td>36.7500</td>\n",
       "      <td>NaN</td>\n",
       "      <td>S</td>\n",
       "    </tr>\n",
       "    <tr>\n",
       "      <th>300</th>\n",
       "      <td>1</td>\n",
       "      <td>1</td>\n",
       "      <td>Baxter, Mrs. James (Helene DeLaudeniere Chaput)</td>\n",
       "      <td>female</td>\n",
       "      <td>50.0</td>\n",
       "      <td>0</td>\n",
       "      <td>1</td>\n",
       "      <td>PC 17558</td>\n",
       "      <td>247.5208</td>\n",
       "      <td>B58 B60</td>\n",
       "      <td>C</td>\n",
       "    </tr>\n",
       "    <tr>\n",
       "      <th>147</th>\n",
       "      <td>1</td>\n",
       "      <td>3</td>\n",
       "      <td>Andersson, Mr. August Edvard (\"Wennerstrom\")</td>\n",
       "      <td>male</td>\n",
       "      <td>27.0</td>\n",
       "      <td>0</td>\n",
       "      <td>0</td>\n",
       "      <td>350043</td>\n",
       "      <td>7.7958</td>\n",
       "      <td>NaN</td>\n",
       "      <td>S</td>\n",
       "    </tr>\n",
       "    <tr>\n",
       "      <th>91</th>\n",
       "      <td>0</td>\n",
       "      <td>3</td>\n",
       "      <td>Christmann, Mr. Emil</td>\n",
       "      <td>male</td>\n",
       "      <td>29.0</td>\n",
       "      <td>0</td>\n",
       "      <td>0</td>\n",
       "      <td>343276</td>\n",
       "      <td>8.0500</td>\n",
       "      <td>NaN</td>\n",
       "      <td>S</td>\n",
       "    </tr>\n",
       "  </tbody>\n",
       "</table>\n",
       "</div>"
      ],
      "text/plain": [
       "             Survived  Pclass  \\\n",
       "PassengerId                     \n",
       "588                 1       1   \n",
       "202                 0       3   \n",
       "538                 1       1   \n",
       "666                 0       2   \n",
       "479                 0       3   \n",
       "881                 1       2   \n",
       "550                 1       2   \n",
       "300                 1       1   \n",
       "147                 1       3   \n",
       "91                  0       3   \n",
       "\n",
       "                                                        Name     Sex   Age  \\\n",
       "PassengerId                                                                  \n",
       "588                         Frolicher-Stehli, Mr. Maxmillian    male  60.0   \n",
       "202                                      Sage, Mr. Frederick    male   NaN   \n",
       "538                                      LeRoy, Miss. Bertha  female  30.0   \n",
       "666                                       Hickman, Mr. Lewis    male  32.0   \n",
       "479                                Karlsson, Mr. Nils August    male  22.0   \n",
       "881             Shelley, Mrs. William (Imanita Parrish Hall)  female  25.0   \n",
       "550                           Davies, Master. John Morgan Jr    male   8.0   \n",
       "300          Baxter, Mrs. James (Helene DeLaudeniere Chaput)  female  50.0   \n",
       "147             Andersson, Mr. August Edvard (\"Wennerstrom\")    male  27.0   \n",
       "91                                      Christmann, Mr. Emil    male  29.0   \n",
       "\n",
       "             SibSp  Parch        Ticket      Fare    Cabin Embarked  \n",
       "PassengerId                                                          \n",
       "588              1      1         13567   79.2000      B41        C  \n",
       "202              8      2      CA. 2343   69.5500      NaN        S  \n",
       "538              0      0      PC 17761  106.4250      NaN        C  \n",
       "666              2      0  S.O.C. 14879   73.5000      NaN        S  \n",
       "479              0      0        350060    7.5208      NaN        S  \n",
       "881              0      1        230433   26.0000      NaN        S  \n",
       "550              1      1    C.A. 33112   36.7500      NaN        S  \n",
       "300              0      1      PC 17558  247.5208  B58 B60        C  \n",
       "147              0      0        350043    7.7958      NaN        S  \n",
       "91               0      0        343276    8.0500      NaN        S  "
      ]
     },
     "execution_count": 25,
     "metadata": {},
     "output_type": "execute_result"
    }
   ],
   "source": [
    "data_train.sample(10)"
   ]
  },
  {
   "cell_type": "code",
   "execution_count": 26,
   "metadata": {
    "ExecuteTime": {
     "end_time": "2019-04-17T07:54:31.142749Z",
     "start_time": "2019-04-17T07:54:31.136746Z"
    }
   },
   "outputs": [],
   "source": [
    "# Заведите два листа со списком категориальных и числовых признаков\n",
    "\n",
    "cat_features = ['Name', 'Sex', 'Ticket', 'Cabin', 'Embarked', 'Pclass']\n",
    "num_features = ['Age', 'Fare', 'SibSp', 'Parch']"
   ]
  },
  {
   "cell_type": "markdown",
   "metadata": {},
   "source": [
    "Разные категориальные признаки надо обрабатывать по разному:\n",
    "\n",
    "* Name - Кажется что имя не должно влиять на выживаемость, тут есть одно но, мы можем предположить что чем длиннее имя тем в болеее привелигированном сословии человек находился (это не обязательно верное предположение) и вместо имени хранить длину имени. Другие стратегию обработки имени можно найти в Kernels (например вытаскивать Mr. Ms. Miss. и Mrs.).\n",
    "* Cabin - В этом столбце очень много пропусков (Сколько?) поэтому можно было бы его просто викинуть, но лучше (возможно, а возможно и нет) завести новую переменную в которой будет записан 0 если в столбце Cabin был пропуск и 1 если там было какое то значение.\n",
    "* Ticket - сложно, во-первых много уникальных значений, во-вторых нет пропусков, итого мы можем заметить что у некоторых людей один номер билета. Возможно дети были вписаны в билет родителей в таком случае можно выкинуть этот признак (информация о родителях и так есть в отдельном столбце). А можно и не выкидывать.\n",
    "* Embarked - тут все просто, закодируем с помощью one-hot encoding'а https://hackernoon.com/what-is-one-hot-encoding-why-and-when-do-you-have-to-use-it-e3c6186d008f  (Илья показывал на лекции)\n",
    "* Pclass - воспользуемся one-hot encoding'ом. А можно было бы например оставить 1 признак - был ли пассажир - пассажиром 1ого класса.\n",
    "* Sex - используем кодирование числом, female - 1, male - 0 (или можно снова воспользоваться one-hot encoding'ом)\n",
    "\n",
    "-------------\n",
    "\n",
    "Для кодирования категориальныз переменных в пакете sklearn есть 2 функции обе в модуле preprocessing:\n",
    "1. OrdinalEncoder https://scikit-learn.org/stable/modules/generated/sklearn.preprocessing.OrdinalEncoder.html#sklearn.preprocessing.OrdinalEncoder (может не оказаться в вашей версии sklearn)\n",
    "\n",
    "2. OneHotEncoder https://scikit-learn.org/stable/modules/generated/sklearn.preprocessing.OneHotEncoder.html#sklearn.preprocessing.OneHotEncoder\n",
    "\n",
    "В библиотеке pandas есть удобная функция **.get_dummies()** которая так же позволяет использовать one-hot encoding\n",
    "\n",
    "\n",
    "PS С one-hot encoding'ом может возникнуть неприятность если в вашей тестовой выборке в каком нибудь категориальном признаке окажется категория которой не было в тренировочной выборке."
   ]
  },
  {
   "cell_type": "markdown",
   "metadata": {},
   "source": [
    "### 4.1 Кодирование имени\n",
    "\n",
    "в pandas есть очень удобный способ обрабатывать отдельные столбцы и/или строки,\n",
    "с использованием метода .apply() https://pandas.pydata.org/pandas-docs/stable/reference/api/pandas.DataFrame.apply.html\n",
    "\n",
    "Он позволяет применить одну и ту же функцию (например функцию возвращающую длину строки) ко всем \n",
    "строкам нужного столбца/столбцов.\n",
    "\n",
    "**Пример использования apply**\n",
    "\n",
    "1. http://jonathansoma.com/lede/foundations/classes/pandas%20columns%20and%20functions/apply-a-function-to-every-row-in-a-pandas-dataframe/\n",
    "2. https://chrisalbon.com/python/data_wrangling/pandas_apply_operations_to_dataframes/"
   ]
  },
  {
   "cell_type": "code",
   "execution_count": 27,
   "metadata": {
    "ExecuteTime": {
     "end_time": "2019-04-17T07:55:10.058718Z",
     "start_time": "2019-04-17T07:55:10.044453Z"
    }
   },
   "outputs": [
    {
     "data": {
      "text/plain": [
       "PassengerId\n",
       "1     23\n",
       "2     51\n",
       "3     22\n",
       "4     44\n",
       "5     24\n",
       "6     16\n",
       "7     23\n",
       "8     30\n",
       "9     49\n",
       "10    35\n",
       "Name: Name, dtype: int64"
      ]
     },
     "execution_count": 27,
     "metadata": {},
     "output_type": "execute_result"
    }
   ],
   "source": [
    "# Воспользуйтесь функцией len - возвращает длину строки\n",
    "# чтобы закодировать имя - длиной имени\n",
    "# обратите внимание что функцию len нужно передавать в apply без круглых скобок и без аргумента.\n",
    "\n",
    "data_train['Name'].apply(len)[:10]"
   ]
  },
  {
   "cell_type": "code",
   "execution_count": null,
   "metadata": {},
   "outputs": [],
   "source": []
  },
  {
   "cell_type": "markdown",
   "metadata": {},
   "source": [
    "### 4.2 Обратка признака Кабина\n",
    "\n",
    "Опять воспользуемся методом apply()\n",
    "для этого воспользуемся тем фактом что nan имеет тип float: сперва напишем коротенькую функцию которая проверяет тип переменной, если это строка (str) тогда вернем 1 (есть запись, например 'C123' или  'C103'), если же это float (т.е. nan) вернем 0 (то есть значение пропущено).\n",
    "\n",
    "теперь воспользуемся методом .apply() на столбец Кабина передав в качестве аргумента нашу написанную функцию.\n",
    "\n",
    "\n"
   ]
  },
  {
   "cell_type": "code",
   "execution_count": 28,
   "metadata": {
    "ExecuteTime": {
     "end_time": "2019-04-17T07:55:19.743038Z",
     "start_time": "2019-04-17T07:55:19.725243Z"
    }
   },
   "outputs": [
    {
     "data": {
      "text/plain": [
       "PassengerId\n",
       "1     0\n",
       "2     1\n",
       "3     0\n",
       "4     1\n",
       "5     0\n",
       "6     0\n",
       "7     1\n",
       "8     0\n",
       "9     0\n",
       "10    0\n",
       "Name: Cabin, dtype: int64"
      ]
     },
     "execution_count": 28,
     "metadata": {},
     "output_type": "execute_result"
    }
   ],
   "source": [
    "# Напишите свою функцию для обработки стобца Кабина\n",
    "# и воспользуйтесь методом .apply чтобы применить ее\n",
    "# ко всем записям\n",
    "\n",
    "\n",
    "def cabin(val):\n",
    "    if type(val) is str:\n",
    "        return 1\n",
    "    else:\n",
    "        return 0\n",
    "\n",
    "data_train.Cabin.apply(cabin)[:10]"
   ]
  },
  {
   "cell_type": "code",
   "execution_count": null,
   "metadata": {},
   "outputs": [],
   "source": []
  },
  {
   "cell_type": "markdown",
   "metadata": {},
   "source": [
    "### 4.3 Обработка признака Ticket\n",
    "\n",
    "Для того чтобы выбрасывать столбцы/строки из DataFrame есть специальный метод .drop() мы уже пользовались им выше когда обрабатывали аутлаеры (выбросы).\n",
    "На этот раз обратите внимание на параметры\n",
    "\n",
    "* labels\n",
    "* axis\n",
    "\n",
    "и \n",
    "\n",
    "* inplace \n"
   ]
  },
  {
   "cell_type": "code",
   "execution_count": 29,
   "metadata": {
    "ExecuteTime": {
     "end_time": "2019-04-17T07:55:25.034960Z",
     "start_time": "2019-04-17T07:55:25.020315Z"
    }
   },
   "outputs": [
    {
     "data": {
      "text/html": [
       "<div>\n",
       "<style scoped>\n",
       "    .dataframe tbody tr th:only-of-type {\n",
       "        vertical-align: middle;\n",
       "    }\n",
       "\n",
       "    .dataframe tbody tr th {\n",
       "        vertical-align: top;\n",
       "    }\n",
       "\n",
       "    .dataframe thead th {\n",
       "        text-align: right;\n",
       "    }\n",
       "</style>\n",
       "<table border=\"1\" class=\"dataframe\">\n",
       "  <thead>\n",
       "    <tr style=\"text-align: right;\">\n",
       "      <th></th>\n",
       "      <th>Survived</th>\n",
       "      <th>Pclass</th>\n",
       "      <th>Name</th>\n",
       "      <th>Sex</th>\n",
       "      <th>Age</th>\n",
       "      <th>SibSp</th>\n",
       "      <th>Parch</th>\n",
       "      <th>Fare</th>\n",
       "      <th>Cabin</th>\n",
       "      <th>Embarked</th>\n",
       "    </tr>\n",
       "    <tr>\n",
       "      <th>PassengerId</th>\n",
       "      <th></th>\n",
       "      <th></th>\n",
       "      <th></th>\n",
       "      <th></th>\n",
       "      <th></th>\n",
       "      <th></th>\n",
       "      <th></th>\n",
       "      <th></th>\n",
       "      <th></th>\n",
       "      <th></th>\n",
       "    </tr>\n",
       "  </thead>\n",
       "  <tbody>\n",
       "    <tr>\n",
       "      <th>1</th>\n",
       "      <td>0</td>\n",
       "      <td>3</td>\n",
       "      <td>Braund, Mr. Owen Harris</td>\n",
       "      <td>male</td>\n",
       "      <td>22.0</td>\n",
       "      <td>1</td>\n",
       "      <td>0</td>\n",
       "      <td>7.2500</td>\n",
       "      <td>NaN</td>\n",
       "      <td>S</td>\n",
       "    </tr>\n",
       "    <tr>\n",
       "      <th>2</th>\n",
       "      <td>1</td>\n",
       "      <td>1</td>\n",
       "      <td>Cumings, Mrs. John Bradley (Florence Briggs Th...</td>\n",
       "      <td>female</td>\n",
       "      <td>38.0</td>\n",
       "      <td>1</td>\n",
       "      <td>0</td>\n",
       "      <td>71.2833</td>\n",
       "      <td>C85</td>\n",
       "      <td>C</td>\n",
       "    </tr>\n",
       "    <tr>\n",
       "      <th>3</th>\n",
       "      <td>1</td>\n",
       "      <td>3</td>\n",
       "      <td>Heikkinen, Miss. Laina</td>\n",
       "      <td>female</td>\n",
       "      <td>26.0</td>\n",
       "      <td>0</td>\n",
       "      <td>0</td>\n",
       "      <td>7.9250</td>\n",
       "      <td>NaN</td>\n",
       "      <td>S</td>\n",
       "    </tr>\n",
       "    <tr>\n",
       "      <th>4</th>\n",
       "      <td>1</td>\n",
       "      <td>1</td>\n",
       "      <td>Futrelle, Mrs. Jacques Heath (Lily May Peel)</td>\n",
       "      <td>female</td>\n",
       "      <td>35.0</td>\n",
       "      <td>1</td>\n",
       "      <td>0</td>\n",
       "      <td>53.1000</td>\n",
       "      <td>C123</td>\n",
       "      <td>S</td>\n",
       "    </tr>\n",
       "    <tr>\n",
       "      <th>5</th>\n",
       "      <td>0</td>\n",
       "      <td>3</td>\n",
       "      <td>Allen, Mr. William Henry</td>\n",
       "      <td>male</td>\n",
       "      <td>35.0</td>\n",
       "      <td>0</td>\n",
       "      <td>0</td>\n",
       "      <td>8.0500</td>\n",
       "      <td>NaN</td>\n",
       "      <td>S</td>\n",
       "    </tr>\n",
       "  </tbody>\n",
       "</table>\n",
       "</div>"
      ],
      "text/plain": [
       "             Survived  Pclass  \\\n",
       "PassengerId                     \n",
       "1                   0       3   \n",
       "2                   1       1   \n",
       "3                   1       3   \n",
       "4                   1       1   \n",
       "5                   0       3   \n",
       "\n",
       "                                                          Name     Sex   Age  \\\n",
       "PassengerId                                                                    \n",
       "1                                      Braund, Mr. Owen Harris    male  22.0   \n",
       "2            Cumings, Mrs. John Bradley (Florence Briggs Th...  female  38.0   \n",
       "3                                       Heikkinen, Miss. Laina  female  26.0   \n",
       "4                 Futrelle, Mrs. Jacques Heath (Lily May Peel)  female  35.0   \n",
       "5                                     Allen, Mr. William Henry    male  35.0   \n",
       "\n",
       "             SibSp  Parch     Fare Cabin Embarked  \n",
       "PassengerId                                        \n",
       "1                1      0   7.2500   NaN        S  \n",
       "2                1      0  71.2833   C85        C  \n",
       "3                0      0   7.9250   NaN        S  \n",
       "4                1      0  53.1000  C123        S  \n",
       "5                0      0   8.0500   NaN        S  "
      ]
     },
     "execution_count": 29,
     "metadata": {},
     "output_type": "execute_result"
    }
   ],
   "source": [
    "# Выкиньте столбец Ticket из наших данных\n",
    "# оставьте параметр inplace со значением False\n",
    "\n",
    "data_train.drop(labels='Ticket', axis=1).head()"
   ]
  },
  {
   "cell_type": "code",
   "execution_count": null,
   "metadata": {},
   "outputs": [],
   "source": []
  },
  {
   "cell_type": "markdown",
   "metadata": {},
   "source": [
    "### 4.4. Место посадки и Класс\n",
    "\n",
    "Воспользуемся функцией pd.get_dummies() к столбцу Место посадки и столбцу Пассажирский Класс\n",
    "\n",
    "обратите внимание на сигнатуру функции get_dummies особенно на поля data  и columns"
   ]
  },
  {
   "cell_type": "code",
   "execution_count": 30,
   "metadata": {
    "ExecuteTime": {
     "end_time": "2019-04-17T07:55:27.763055Z",
     "start_time": "2019-04-17T07:55:27.738813Z"
    }
   },
   "outputs": [
    {
     "data": {
      "text/html": [
       "<div>\n",
       "<style scoped>\n",
       "    .dataframe tbody tr th:only-of-type {\n",
       "        vertical-align: middle;\n",
       "    }\n",
       "\n",
       "    .dataframe tbody tr th {\n",
       "        vertical-align: top;\n",
       "    }\n",
       "\n",
       "    .dataframe thead th {\n",
       "        text-align: right;\n",
       "    }\n",
       "</style>\n",
       "<table border=\"1\" class=\"dataframe\">\n",
       "  <thead>\n",
       "    <tr style=\"text-align: right;\">\n",
       "      <th></th>\n",
       "      <th>Embarked_C</th>\n",
       "      <th>Embarked_Q</th>\n",
       "      <th>Embarked_S</th>\n",
       "      <th>Pclass_1</th>\n",
       "      <th>Pclass_2</th>\n",
       "      <th>Pclass_3</th>\n",
       "    </tr>\n",
       "    <tr>\n",
       "      <th>PassengerId</th>\n",
       "      <th></th>\n",
       "      <th></th>\n",
       "      <th></th>\n",
       "      <th></th>\n",
       "      <th></th>\n",
       "      <th></th>\n",
       "    </tr>\n",
       "  </thead>\n",
       "  <tbody>\n",
       "    <tr>\n",
       "      <th>1</th>\n",
       "      <td>0</td>\n",
       "      <td>0</td>\n",
       "      <td>1</td>\n",
       "      <td>0</td>\n",
       "      <td>0</td>\n",
       "      <td>1</td>\n",
       "    </tr>\n",
       "    <tr>\n",
       "      <th>2</th>\n",
       "      <td>1</td>\n",
       "      <td>0</td>\n",
       "      <td>0</td>\n",
       "      <td>1</td>\n",
       "      <td>0</td>\n",
       "      <td>0</td>\n",
       "    </tr>\n",
       "    <tr>\n",
       "      <th>3</th>\n",
       "      <td>0</td>\n",
       "      <td>0</td>\n",
       "      <td>1</td>\n",
       "      <td>0</td>\n",
       "      <td>0</td>\n",
       "      <td>1</td>\n",
       "    </tr>\n",
       "  </tbody>\n",
       "</table>\n",
       "</div>"
      ],
      "text/plain": [
       "             Embarked_C  Embarked_Q  Embarked_S  Pclass_1  Pclass_2  Pclass_3\n",
       "PassengerId                                                                  \n",
       "1                     0           0           1         0         0         1\n",
       "2                     1           0           0         1         0         0\n",
       "3                     0           0           1         0         0         1"
      ]
     },
     "execution_count": 30,
     "metadata": {},
     "output_type": "execute_result"
    }
   ],
   "source": [
    "# примените функцию pd.get_dummies() к нужному столбцу\n",
    "\n",
    "pd.get_dummies(data_train, columns = ['Embarked', 'Pclass'])[['Embarked_C', 'Embarked_Q',\n",
    "                                                              'Embarked_S', 'Pclass_1',\n",
    "                                                              'Pclass_2', 'Pclass_3', ]][:3]"
   ]
  },
  {
   "cell_type": "markdown",
   "metadata": {},
   "source": [
    "### 4.5. Пол\n",
    "\n",
    "воспользуйтесь методом apply или функцией get_dummies или импортируйте OrdinalEncoder (или LabelEncoder) из\n",
    "модуля preprocessing пакета sklearn"
   ]
  },
  {
   "cell_type": "code",
   "execution_count": 31,
   "metadata": {
    "ExecuteTime": {
     "end_time": "2019-04-17T07:55:29.070625Z",
     "start_time": "2019-04-17T07:55:29.060253Z"
    }
   },
   "outputs": [
    {
     "data": {
      "text/plain": [
       "PassengerId\n",
       "1    0\n",
       "2    1\n",
       "3    1\n",
       "4    1\n",
       "5    0\n",
       "Name: Sex, dtype: int64"
      ]
     },
     "execution_count": 31,
     "metadata": {},
     "output_type": "execute_result"
    }
   ],
   "source": [
    "# Обработайте столбец Пол\n",
    "def sex(x):\n",
    "    if x == 'male':\n",
    "        return 0\n",
    "    else:\n",
    "        return 1\n",
    "\n",
    "data_train.Sex.apply(sex)[:5]"
   ]
  },
  {
   "cell_type": "code",
   "execution_count": null,
   "metadata": {},
   "outputs": [],
   "source": []
  },
  {
   "cell_type": "markdown",
   "metadata": {},
   "source": [
    "> TODO Добавьте по своему вкусу еще каких нибудь фичей"
   ]
  },
  {
   "cell_type": "code",
   "execution_count": null,
   "metadata": {},
   "outputs": [],
   "source": []
  },
  {
   "cell_type": "markdown",
   "metadata": {},
   "source": [
    "### 4.6. Соберем это все в одну единую функцию\n",
    "\n",
    "На вход она будет принимать датафрейм а на выходе новый датафрейм с закодированными категориальными признаками.\n",
    "\n",
    "PS Я оставлю полную функцию и не стану ее удалять, она ниже"
   ]
  },
  {
   "cell_type": "code",
   "execution_count": null,
   "metadata": {},
   "outputs": [],
   "source": []
  },
  {
   "cell_type": "code",
   "execution_count": 32,
   "metadata": {
    "ExecuteTime": {
     "end_time": "2019-04-17T07:56:06.898748Z",
     "start_time": "2019-04-17T07:56:06.869669Z"
    }
   },
   "outputs": [],
   "source": [
    "def process_cat(df, ):\n",
    "    \n",
    "    def cabin(val):\n",
    "        if type(val) is str:\n",
    "            return 1\n",
    "        else:\n",
    "            return 0\n",
    "    \n",
    "    def sex(x):\n",
    "        if x == 'male':\n",
    "            return 0\n",
    "        else:\n",
    "            return 1\n",
    "    \n",
    "    df['Name_len'] = df['Name'].apply(len)\n",
    "    df['is_Cabin'] = df['Cabin'].apply(cabin)\n",
    "    df['Sex'] = df['Sex'].apply(sex)    \n",
    "    df = pd.get_dummies(df, columns = ['Embarked', 'Pclass'])\n",
    "    \n",
    "    df.drop(['Name', 'Cabin', 'Ticket'], axis=1, inplace=True)\n",
    "    \n",
    "    return df"
   ]
  },
  {
   "cell_type": "code",
   "execution_count": 33,
   "metadata": {
    "ExecuteTime": {
     "end_time": "2019-04-17T07:56:07.706361Z",
     "start_time": "2019-04-17T07:56:07.685612Z"
    }
   },
   "outputs": [],
   "source": [
    "df = process_cat(data_train, )"
   ]
  },
  {
   "cell_type": "code",
   "execution_count": 34,
   "metadata": {
    "ExecuteTime": {
     "end_time": "2019-04-17T07:56:15.959128Z",
     "start_time": "2019-04-17T07:56:15.917816Z"
    }
   },
   "outputs": [
    {
     "data": {
      "text/html": [
       "<div>\n",
       "<style scoped>\n",
       "    .dataframe tbody tr th:only-of-type {\n",
       "        vertical-align: middle;\n",
       "    }\n",
       "\n",
       "    .dataframe tbody tr th {\n",
       "        vertical-align: top;\n",
       "    }\n",
       "\n",
       "    .dataframe thead th {\n",
       "        text-align: right;\n",
       "    }\n",
       "</style>\n",
       "<table border=\"1\" class=\"dataframe\">\n",
       "  <thead>\n",
       "    <tr style=\"text-align: right;\">\n",
       "      <th></th>\n",
       "      <th>Survived</th>\n",
       "      <th>Pclass</th>\n",
       "      <th>Name</th>\n",
       "      <th>Sex</th>\n",
       "      <th>Age</th>\n",
       "      <th>SibSp</th>\n",
       "      <th>Parch</th>\n",
       "      <th>Ticket</th>\n",
       "      <th>Fare</th>\n",
       "      <th>Cabin</th>\n",
       "      <th>Embarked</th>\n",
       "      <th>Name_len</th>\n",
       "      <th>is_Cabin</th>\n",
       "    </tr>\n",
       "    <tr>\n",
       "      <th>PassengerId</th>\n",
       "      <th></th>\n",
       "      <th></th>\n",
       "      <th></th>\n",
       "      <th></th>\n",
       "      <th></th>\n",
       "      <th></th>\n",
       "      <th></th>\n",
       "      <th></th>\n",
       "      <th></th>\n",
       "      <th></th>\n",
       "      <th></th>\n",
       "      <th></th>\n",
       "      <th></th>\n",
       "    </tr>\n",
       "  </thead>\n",
       "  <tbody>\n",
       "    <tr>\n",
       "      <th>490</th>\n",
       "      <td>1</td>\n",
       "      <td>3</td>\n",
       "      <td>Coutts, Master. Eden Leslie \"Neville\"</td>\n",
       "      <td>0</td>\n",
       "      <td>9.0</td>\n",
       "      <td>1</td>\n",
       "      <td>1</td>\n",
       "      <td>C.A. 37671</td>\n",
       "      <td>15.9000</td>\n",
       "      <td>NaN</td>\n",
       "      <td>S</td>\n",
       "      <td>37</td>\n",
       "      <td>0</td>\n",
       "    </tr>\n",
       "    <tr>\n",
       "      <th>435</th>\n",
       "      <td>0</td>\n",
       "      <td>1</td>\n",
       "      <td>Silvey, Mr. William Baird</td>\n",
       "      <td>0</td>\n",
       "      <td>50.0</td>\n",
       "      <td>1</td>\n",
       "      <td>0</td>\n",
       "      <td>13507</td>\n",
       "      <td>55.9000</td>\n",
       "      <td>E44</td>\n",
       "      <td>S</td>\n",
       "      <td>25</td>\n",
       "      <td>1</td>\n",
       "    </tr>\n",
       "    <tr>\n",
       "      <th>396</th>\n",
       "      <td>0</td>\n",
       "      <td>3</td>\n",
       "      <td>Johansson, Mr. Erik</td>\n",
       "      <td>0</td>\n",
       "      <td>22.0</td>\n",
       "      <td>0</td>\n",
       "      <td>0</td>\n",
       "      <td>350052</td>\n",
       "      <td>7.7958</td>\n",
       "      <td>NaN</td>\n",
       "      <td>S</td>\n",
       "      <td>19</td>\n",
       "      <td>0</td>\n",
       "    </tr>\n",
       "    <tr>\n",
       "      <th>248</th>\n",
       "      <td>1</td>\n",
       "      <td>2</td>\n",
       "      <td>Hamalainen, Mrs. William (Anna)</td>\n",
       "      <td>1</td>\n",
       "      <td>24.0</td>\n",
       "      <td>0</td>\n",
       "      <td>2</td>\n",
       "      <td>250649</td>\n",
       "      <td>14.5000</td>\n",
       "      <td>NaN</td>\n",
       "      <td>S</td>\n",
       "      <td>31</td>\n",
       "      <td>0</td>\n",
       "    </tr>\n",
       "    <tr>\n",
       "      <th>750</th>\n",
       "      <td>0</td>\n",
       "      <td>3</td>\n",
       "      <td>Connaghton, Mr. Michael</td>\n",
       "      <td>0</td>\n",
       "      <td>31.0</td>\n",
       "      <td>0</td>\n",
       "      <td>0</td>\n",
       "      <td>335097</td>\n",
       "      <td>7.7500</td>\n",
       "      <td>NaN</td>\n",
       "      <td>Q</td>\n",
       "      <td>23</td>\n",
       "      <td>0</td>\n",
       "    </tr>\n",
       "    <tr>\n",
       "      <th>811</th>\n",
       "      <td>0</td>\n",
       "      <td>3</td>\n",
       "      <td>Alexander, Mr. William</td>\n",
       "      <td>0</td>\n",
       "      <td>26.0</td>\n",
       "      <td>0</td>\n",
       "      <td>0</td>\n",
       "      <td>3474</td>\n",
       "      <td>7.8875</td>\n",
       "      <td>NaN</td>\n",
       "      <td>S</td>\n",
       "      <td>22</td>\n",
       "      <td>0</td>\n",
       "    </tr>\n",
       "    <tr>\n",
       "      <th>339</th>\n",
       "      <td>1</td>\n",
       "      <td>3</td>\n",
       "      <td>Dahl, Mr. Karl Edwart</td>\n",
       "      <td>0</td>\n",
       "      <td>45.0</td>\n",
       "      <td>0</td>\n",
       "      <td>0</td>\n",
       "      <td>7598</td>\n",
       "      <td>8.0500</td>\n",
       "      <td>NaN</td>\n",
       "      <td>S</td>\n",
       "      <td>21</td>\n",
       "      <td>0</td>\n",
       "    </tr>\n",
       "    <tr>\n",
       "      <th>716</th>\n",
       "      <td>0</td>\n",
       "      <td>3</td>\n",
       "      <td>Soholt, Mr. Peter Andreas Lauritz Andersen</td>\n",
       "      <td>0</td>\n",
       "      <td>19.0</td>\n",
       "      <td>0</td>\n",
       "      <td>0</td>\n",
       "      <td>348124</td>\n",
       "      <td>7.6500</td>\n",
       "      <td>F G73</td>\n",
       "      <td>S</td>\n",
       "      <td>42</td>\n",
       "      <td>1</td>\n",
       "    </tr>\n",
       "    <tr>\n",
       "      <th>786</th>\n",
       "      <td>0</td>\n",
       "      <td>3</td>\n",
       "      <td>Harmer, Mr. Abraham (David Lishin)</td>\n",
       "      <td>0</td>\n",
       "      <td>25.0</td>\n",
       "      <td>0</td>\n",
       "      <td>0</td>\n",
       "      <td>374887</td>\n",
       "      <td>7.2500</td>\n",
       "      <td>NaN</td>\n",
       "      <td>S</td>\n",
       "      <td>34</td>\n",
       "      <td>0</td>\n",
       "    </tr>\n",
       "    <tr>\n",
       "      <th>875</th>\n",
       "      <td>1</td>\n",
       "      <td>2</td>\n",
       "      <td>Abelson, Mrs. Samuel (Hannah Wizosky)</td>\n",
       "      <td>1</td>\n",
       "      <td>28.0</td>\n",
       "      <td>1</td>\n",
       "      <td>0</td>\n",
       "      <td>P/PP 3381</td>\n",
       "      <td>24.0000</td>\n",
       "      <td>NaN</td>\n",
       "      <td>C</td>\n",
       "      <td>37</td>\n",
       "      <td>0</td>\n",
       "    </tr>\n",
       "  </tbody>\n",
       "</table>\n",
       "</div>"
      ],
      "text/plain": [
       "             Survived  Pclass                                        Name  \\\n",
       "PassengerId                                                                 \n",
       "490                 1       3       Coutts, Master. Eden Leslie \"Neville\"   \n",
       "435                 0       1                   Silvey, Mr. William Baird   \n",
       "396                 0       3                         Johansson, Mr. Erik   \n",
       "248                 1       2             Hamalainen, Mrs. William (Anna)   \n",
       "750                 0       3                     Connaghton, Mr. Michael   \n",
       "811                 0       3                      Alexander, Mr. William   \n",
       "339                 1       3                       Dahl, Mr. Karl Edwart   \n",
       "716                 0       3  Soholt, Mr. Peter Andreas Lauritz Andersen   \n",
       "786                 0       3          Harmer, Mr. Abraham (David Lishin)   \n",
       "875                 1       2       Abelson, Mrs. Samuel (Hannah Wizosky)   \n",
       "\n",
       "             Sex   Age  SibSp  Parch      Ticket     Fare  Cabin Embarked  \\\n",
       "PassengerId                                                                 \n",
       "490            0   9.0      1      1  C.A. 37671  15.9000    NaN        S   \n",
       "435            0  50.0      1      0       13507  55.9000    E44        S   \n",
       "396            0  22.0      0      0      350052   7.7958    NaN        S   \n",
       "248            1  24.0      0      2      250649  14.5000    NaN        S   \n",
       "750            0  31.0      0      0      335097   7.7500    NaN        Q   \n",
       "811            0  26.0      0      0        3474   7.8875    NaN        S   \n",
       "339            0  45.0      0      0        7598   8.0500    NaN        S   \n",
       "716            0  19.0      0      0      348124   7.6500  F G73        S   \n",
       "786            0  25.0      0      0      374887   7.2500    NaN        S   \n",
       "875            1  28.0      1      0   P/PP 3381  24.0000    NaN        C   \n",
       "\n",
       "             Name_len  is_Cabin  \n",
       "PassengerId                      \n",
       "490                37         0  \n",
       "435                25         1  \n",
       "396                19         0  \n",
       "248                31         0  \n",
       "750                23         0  \n",
       "811                22         0  \n",
       "339                21         0  \n",
       "716                42         1  \n",
       "786                34         0  \n",
       "875                37         0  "
      ]
     },
     "execution_count": 34,
     "metadata": {},
     "output_type": "execute_result"
    }
   ],
   "source": [
    "data_train.sample(10)"
   ]
  },
  {
   "cell_type": "code",
   "execution_count": 35,
   "metadata": {},
   "outputs": [
    {
     "data": {
      "text/html": [
       "<div>\n",
       "<style scoped>\n",
       "    .dataframe tbody tr th:only-of-type {\n",
       "        vertical-align: middle;\n",
       "    }\n",
       "\n",
       "    .dataframe tbody tr th {\n",
       "        vertical-align: top;\n",
       "    }\n",
       "\n",
       "    .dataframe thead th {\n",
       "        text-align: right;\n",
       "    }\n",
       "</style>\n",
       "<table border=\"1\" class=\"dataframe\">\n",
       "  <thead>\n",
       "    <tr style=\"text-align: right;\">\n",
       "      <th></th>\n",
       "      <th>Survived</th>\n",
       "      <th>Sex</th>\n",
       "      <th>Age</th>\n",
       "      <th>SibSp</th>\n",
       "      <th>Parch</th>\n",
       "      <th>Fare</th>\n",
       "      <th>Name_len</th>\n",
       "      <th>is_Cabin</th>\n",
       "      <th>Embarked_C</th>\n",
       "      <th>Embarked_Q</th>\n",
       "      <th>Embarked_S</th>\n",
       "      <th>Pclass_1</th>\n",
       "      <th>Pclass_2</th>\n",
       "      <th>Pclass_3</th>\n",
       "    </tr>\n",
       "    <tr>\n",
       "      <th>PassengerId</th>\n",
       "      <th></th>\n",
       "      <th></th>\n",
       "      <th></th>\n",
       "      <th></th>\n",
       "      <th></th>\n",
       "      <th></th>\n",
       "      <th></th>\n",
       "      <th></th>\n",
       "      <th></th>\n",
       "      <th></th>\n",
       "      <th></th>\n",
       "      <th></th>\n",
       "      <th></th>\n",
       "      <th></th>\n",
       "    </tr>\n",
       "  </thead>\n",
       "  <tbody>\n",
       "    <tr>\n",
       "      <th>785</th>\n",
       "      <td>0</td>\n",
       "      <td>0</td>\n",
       "      <td>25.0</td>\n",
       "      <td>0</td>\n",
       "      <td>0</td>\n",
       "      <td>7.0500</td>\n",
       "      <td>16</td>\n",
       "      <td>0</td>\n",
       "      <td>0</td>\n",
       "      <td>0</td>\n",
       "      <td>1</td>\n",
       "      <td>0</td>\n",
       "      <td>0</td>\n",
       "      <td>1</td>\n",
       "    </tr>\n",
       "    <tr>\n",
       "      <th>136</th>\n",
       "      <td>0</td>\n",
       "      <td>0</td>\n",
       "      <td>23.0</td>\n",
       "      <td>0</td>\n",
       "      <td>0</td>\n",
       "      <td>15.0458</td>\n",
       "      <td>18</td>\n",
       "      <td>0</td>\n",
       "      <td>1</td>\n",
       "      <td>0</td>\n",
       "      <td>0</td>\n",
       "      <td>0</td>\n",
       "      <td>1</td>\n",
       "      <td>0</td>\n",
       "    </tr>\n",
       "    <tr>\n",
       "      <th>204</th>\n",
       "      <td>0</td>\n",
       "      <td>0</td>\n",
       "      <td>45.5</td>\n",
       "      <td>0</td>\n",
       "      <td>0</td>\n",
       "      <td>7.2250</td>\n",
       "      <td>20</td>\n",
       "      <td>0</td>\n",
       "      <td>1</td>\n",
       "      <td>0</td>\n",
       "      <td>0</td>\n",
       "      <td>0</td>\n",
       "      <td>0</td>\n",
       "      <td>1</td>\n",
       "    </tr>\n",
       "    <tr>\n",
       "      <th>6</th>\n",
       "      <td>0</td>\n",
       "      <td>0</td>\n",
       "      <td>NaN</td>\n",
       "      <td>0</td>\n",
       "      <td>0</td>\n",
       "      <td>8.4583</td>\n",
       "      <td>16</td>\n",
       "      <td>0</td>\n",
       "      <td>0</td>\n",
       "      <td>1</td>\n",
       "      <td>0</td>\n",
       "      <td>0</td>\n",
       "      <td>0</td>\n",
       "      <td>1</td>\n",
       "    </tr>\n",
       "    <tr>\n",
       "      <th>817</th>\n",
       "      <td>0</td>\n",
       "      <td>1</td>\n",
       "      <td>23.0</td>\n",
       "      <td>0</td>\n",
       "      <td>0</td>\n",
       "      <td>7.9250</td>\n",
       "      <td>28</td>\n",
       "      <td>0</td>\n",
       "      <td>0</td>\n",
       "      <td>0</td>\n",
       "      <td>1</td>\n",
       "      <td>0</td>\n",
       "      <td>0</td>\n",
       "      <td>1</td>\n",
       "    </tr>\n",
       "    <tr>\n",
       "      <th>145</th>\n",
       "      <td>0</td>\n",
       "      <td>0</td>\n",
       "      <td>18.0</td>\n",
       "      <td>0</td>\n",
       "      <td>0</td>\n",
       "      <td>11.5000</td>\n",
       "      <td>26</td>\n",
       "      <td>0</td>\n",
       "      <td>0</td>\n",
       "      <td>0</td>\n",
       "      <td>1</td>\n",
       "      <td>0</td>\n",
       "      <td>1</td>\n",
       "      <td>0</td>\n",
       "    </tr>\n",
       "    <tr>\n",
       "      <th>206</th>\n",
       "      <td>0</td>\n",
       "      <td>1</td>\n",
       "      <td>2.0</td>\n",
       "      <td>0</td>\n",
       "      <td>1</td>\n",
       "      <td>10.4625</td>\n",
       "      <td>26</td>\n",
       "      <td>1</td>\n",
       "      <td>0</td>\n",
       "      <td>0</td>\n",
       "      <td>1</td>\n",
       "      <td>0</td>\n",
       "      <td>0</td>\n",
       "      <td>1</td>\n",
       "    </tr>\n",
       "    <tr>\n",
       "      <th>21</th>\n",
       "      <td>0</td>\n",
       "      <td>0</td>\n",
       "      <td>35.0</td>\n",
       "      <td>0</td>\n",
       "      <td>0</td>\n",
       "      <td>26.0000</td>\n",
       "      <td>20</td>\n",
       "      <td>0</td>\n",
       "      <td>0</td>\n",
       "      <td>0</td>\n",
       "      <td>1</td>\n",
       "      <td>0</td>\n",
       "      <td>1</td>\n",
       "      <td>0</td>\n",
       "    </tr>\n",
       "    <tr>\n",
       "      <th>333</th>\n",
       "      <td>0</td>\n",
       "      <td>0</td>\n",
       "      <td>38.0</td>\n",
       "      <td>0</td>\n",
       "      <td>1</td>\n",
       "      <td>153.4625</td>\n",
       "      <td>25</td>\n",
       "      <td>1</td>\n",
       "      <td>0</td>\n",
       "      <td>0</td>\n",
       "      <td>1</td>\n",
       "      <td>1</td>\n",
       "      <td>0</td>\n",
       "      <td>0</td>\n",
       "    </tr>\n",
       "    <tr>\n",
       "      <th>507</th>\n",
       "      <td>1</td>\n",
       "      <td>1</td>\n",
       "      <td>33.0</td>\n",
       "      <td>0</td>\n",
       "      <td>2</td>\n",
       "      <td>26.0000</td>\n",
       "      <td>45</td>\n",
       "      <td>0</td>\n",
       "      <td>0</td>\n",
       "      <td>0</td>\n",
       "      <td>1</td>\n",
       "      <td>0</td>\n",
       "      <td>1</td>\n",
       "      <td>0</td>\n",
       "    </tr>\n",
       "  </tbody>\n",
       "</table>\n",
       "</div>"
      ],
      "text/plain": [
       "             Survived  Sex   Age  SibSp  Parch      Fare  Name_len  is_Cabin  \\\n",
       "PassengerId                                                                    \n",
       "785                 0    0  25.0      0      0    7.0500        16         0   \n",
       "136                 0    0  23.0      0      0   15.0458        18         0   \n",
       "204                 0    0  45.5      0      0    7.2250        20         0   \n",
       "6                   0    0   NaN      0      0    8.4583        16         0   \n",
       "817                 0    1  23.0      0      0    7.9250        28         0   \n",
       "145                 0    0  18.0      0      0   11.5000        26         0   \n",
       "206                 0    1   2.0      0      1   10.4625        26         1   \n",
       "21                  0    0  35.0      0      0   26.0000        20         0   \n",
       "333                 0    0  38.0      0      1  153.4625        25         1   \n",
       "507                 1    1  33.0      0      2   26.0000        45         0   \n",
       "\n",
       "             Embarked_C  Embarked_Q  Embarked_S  Pclass_1  Pclass_2  Pclass_3  \n",
       "PassengerId                                                                    \n",
       "785                   0           0           1         0         0         1  \n",
       "136                   1           0           0         0         1         0  \n",
       "204                   1           0           0         0         0         1  \n",
       "6                     0           1           0         0         0         1  \n",
       "817                   0           0           1         0         0         1  \n",
       "145                   0           0           1         0         1         0  \n",
       "206                   0           0           1         0         0         1  \n",
       "21                    0           0           1         0         1         0  \n",
       "333                   0           0           1         1         0         0  \n",
       "507                   0           0           1         0         1         0  "
      ]
     },
     "execution_count": 35,
     "metadata": {},
     "output_type": "execute_result"
    }
   ],
   "source": [
    "df.sample(10)"
   ]
  },
  {
   "cell_type": "markdown",
   "metadata": {},
   "source": [
    "# 5. Обработка числовых признаков\n",
    "\n",
    "* Возраст - в этой колонке есть пропущенные значения, я предлагаю заполнить их средним значением внутри каждого пола, затем надо будет применить шкалирование\n",
    "* Цена билета - применим шкалирование\n",
    "\n",
    "Остальные числовые колонки оставим как есть"
   ]
  },
  {
   "cell_type": "markdown",
   "metadata": {},
   "source": [
    "### 5.1. Заполнение пропущенных значений в колокне Возраст\n",
    "\n",
    "для заполнения пропущенных значений в пакете pandas есть специальная функция .fillna()\n",
    "https://pandas.pydata.org/pandas-docs/stable/reference/api/pandas.DataFrame.fillna.html\n",
    "\n",
    "для группировки значений - метод .groupby()\n",
    "https://pandas.pydata.org/pandas-docs/stable/reference/api/pandas.DataFrame.groupby.html\n",
    "\n",
    "для преобразования значений внутри групп, специальный метод transform. \n",
    "\n",
    "------"
   ]
  },
  {
   "cell_type": "markdown",
   "metadata": {},
   "source": [
    "Давайте посмотрим как работает метод **.groupby()** на нескольких примерах:"
   ]
  },
  {
   "cell_type": "code",
   "execution_count": 36,
   "metadata": {
    "ExecuteTime": {
     "end_time": "2019-04-17T07:56:23.775800Z",
     "start_time": "2019-04-17T07:56:23.768087Z"
    }
   },
   "outputs": [
    {
     "data": {
      "text/plain": [
       "Sex\n",
       "0    30.726645\n",
       "1    27.915709\n",
       "Name: Age, dtype: float64"
      ]
     },
     "execution_count": 36,
     "metadata": {},
     "output_type": "execute_result"
    }
   ],
   "source": [
    "data_train.groupby(['Sex'])['Age'].mean()"
   ]
  },
  {
   "cell_type": "code",
   "execution_count": 37,
   "metadata": {
    "ExecuteTime": {
     "end_time": "2019-04-17T07:56:24.333425Z",
     "start_time": "2019-04-17T07:56:24.324363Z"
    }
   },
   "outputs": [
    {
     "data": {
      "text/plain": [
       "Sex  Pclass\n",
       "0    1         40.0\n",
       "     2         30.0\n",
       "     3         25.0\n",
       "1    1         35.0\n",
       "     2         28.0\n",
       "     3         21.5\n",
       "Name: Age, dtype: float64"
      ]
     },
     "execution_count": 37,
     "metadata": {},
     "output_type": "execute_result"
    }
   ],
   "source": [
    "data_train.groupby(['Sex', 'Pclass'])['Age'].median()"
   ]
  },
  {
   "cell_type": "code",
   "execution_count": 38,
   "metadata": {
    "ExecuteTime": {
     "end_time": "2019-04-17T07:56:24.648852Z",
     "start_time": "2019-04-17T07:56:24.637213Z"
    }
   },
   "outputs": [
    {
     "data": {
      "text/plain": [
       "Sex  Pclass\n",
       "0    1         0.368852\n",
       "     2         0.157407\n",
       "     3         0.135447\n",
       "1    1         0.968085\n",
       "     2         0.921053\n",
       "     3         0.500000\n",
       "Name: Survived, dtype: float64"
      ]
     },
     "execution_count": 38,
     "metadata": {},
     "output_type": "execute_result"
    }
   ],
   "source": [
    "data_train.groupby(['Sex', 'Pclass'])['Survived'].mean()"
   ]
  },
  {
   "cell_type": "code",
   "execution_count": 39,
   "metadata": {
    "ExecuteTime": {
     "end_time": "2019-04-17T07:56:25.801253Z",
     "start_time": "2019-04-17T07:56:25.790302Z"
    }
   },
   "outputs": [
    {
     "data": {
      "text/plain": [
       "Pclass\n",
       "1    512.3292\n",
       "2     73.5000\n",
       "3     69.5500\n",
       "Name: Fare, dtype: float64"
      ]
     },
     "execution_count": 39,
     "metadata": {},
     "output_type": "execute_result"
    }
   ],
   "source": [
    "data_train.groupby(['Pclass'])['Fare'].max()"
   ]
  },
  {
   "cell_type": "code",
   "execution_count": 40,
   "metadata": {
    "ExecuteTime": {
     "end_time": "2019-04-17T07:56:26.074473Z",
     "start_time": "2019-04-17T07:56:26.066501Z"
    }
   },
   "outputs": [
    {
     "data": {
      "text/plain": [
       "Pclass\n",
       "1    0.0\n",
       "2    0.0\n",
       "3    0.0\n",
       "Name: Fare, dtype: float64"
      ]
     },
     "execution_count": 40,
     "metadata": {},
     "output_type": "execute_result"
    }
   ],
   "source": [
    "data_train.groupby(['Pclass'])['Fare'].min()"
   ]
  },
  {
   "cell_type": "code",
   "execution_count": 41,
   "metadata": {
    "ExecuteTime": {
     "end_time": "2019-04-17T07:56:26.967694Z",
     "start_time": "2019-04-17T07:56:26.956927Z"
    }
   },
   "outputs": [
    {
     "data": {
      "text/plain": [
       "Pclass\n",
       "1    25.739375\n",
       "2     5.145000\n",
       "3     6.975000\n",
       "Name: Fare, dtype: float64"
      ]
     },
     "execution_count": 41,
     "metadata": {},
     "output_type": "execute_result"
    }
   ],
   "source": [
    "data_train.groupby(['Pclass'])['Fare'].quantile(.03)"
   ]
  },
  {
   "cell_type": "code",
   "execution_count": 42,
   "metadata": {
    "ExecuteTime": {
     "end_time": "2019-04-17T07:56:27.451774Z",
     "start_time": "2019-04-17T07:56:27.430612Z"
    }
   },
   "outputs": [
    {
     "data": {
      "text/html": [
       "<div>\n",
       "<style scoped>\n",
       "    .dataframe tbody tr th:only-of-type {\n",
       "        vertical-align: middle;\n",
       "    }\n",
       "\n",
       "    .dataframe tbody tr th {\n",
       "        vertical-align: top;\n",
       "    }\n",
       "\n",
       "    .dataframe thead th {\n",
       "        text-align: right;\n",
       "    }\n",
       "</style>\n",
       "<table border=\"1\" class=\"dataframe\">\n",
       "  <thead>\n",
       "    <tr style=\"text-align: right;\">\n",
       "      <th></th>\n",
       "      <th></th>\n",
       "      <th></th>\n",
       "      <th>Age</th>\n",
       "      <th>Fare</th>\n",
       "    </tr>\n",
       "    <tr>\n",
       "      <th>Sex</th>\n",
       "      <th>Pclass</th>\n",
       "      <th>Embarked</th>\n",
       "      <th></th>\n",
       "      <th></th>\n",
       "    </tr>\n",
       "  </thead>\n",
       "  <tbody>\n",
       "    <tr>\n",
       "      <th rowspan=\"9\" valign=\"top\">0</th>\n",
       "      <th rowspan=\"3\" valign=\"top\">1</th>\n",
       "      <th>C</th>\n",
       "      <td>40.111111</td>\n",
       "      <td>93.536707</td>\n",
       "    </tr>\n",
       "    <tr>\n",
       "      <th>Q</th>\n",
       "      <td>44.000000</td>\n",
       "      <td>90.000000</td>\n",
       "    </tr>\n",
       "    <tr>\n",
       "      <th>S</th>\n",
       "      <td>41.897188</td>\n",
       "      <td>52.949947</td>\n",
       "    </tr>\n",
       "    <tr>\n",
       "      <th rowspan=\"3\" valign=\"top\">2</th>\n",
       "      <th>C</th>\n",
       "      <td>25.937500</td>\n",
       "      <td>25.421250</td>\n",
       "    </tr>\n",
       "    <tr>\n",
       "      <th>Q</th>\n",
       "      <td>57.000000</td>\n",
       "      <td>12.350000</td>\n",
       "    </tr>\n",
       "    <tr>\n",
       "      <th>S</th>\n",
       "      <td>30.875889</td>\n",
       "      <td>19.232474</td>\n",
       "    </tr>\n",
       "    <tr>\n",
       "      <th rowspan=\"3\" valign=\"top\">3</th>\n",
       "      <th>C</th>\n",
       "      <td>25.016800</td>\n",
       "      <td>9.352237</td>\n",
       "    </tr>\n",
       "    <tr>\n",
       "      <th>Q</th>\n",
       "      <td>28.142857</td>\n",
       "      <td>11.924251</td>\n",
       "    </tr>\n",
       "    <tr>\n",
       "      <th>S</th>\n",
       "      <td>26.574766</td>\n",
       "      <td>13.307149</td>\n",
       "    </tr>\n",
       "    <tr>\n",
       "      <th rowspan=\"9\" valign=\"top\">1</th>\n",
       "      <th rowspan=\"3\" valign=\"top\">1</th>\n",
       "      <th>C</th>\n",
       "      <td>36.052632</td>\n",
       "      <td>115.640309</td>\n",
       "    </tr>\n",
       "    <tr>\n",
       "      <th>Q</th>\n",
       "      <td>33.000000</td>\n",
       "      <td>90.000000</td>\n",
       "    </tr>\n",
       "    <tr>\n",
       "      <th>S</th>\n",
       "      <td>32.704545</td>\n",
       "      <td>99.026910</td>\n",
       "    </tr>\n",
       "    <tr>\n",
       "      <th rowspan=\"3\" valign=\"top\">2</th>\n",
       "      <th>C</th>\n",
       "      <td>19.142857</td>\n",
       "      <td>25.268457</td>\n",
       "    </tr>\n",
       "    <tr>\n",
       "      <th>Q</th>\n",
       "      <td>30.000000</td>\n",
       "      <td>12.350000</td>\n",
       "    </tr>\n",
       "    <tr>\n",
       "      <th>S</th>\n",
       "      <td>29.719697</td>\n",
       "      <td>21.912687</td>\n",
       "    </tr>\n",
       "    <tr>\n",
       "      <th rowspan=\"3\" valign=\"top\">3</th>\n",
       "      <th>C</th>\n",
       "      <td>14.062500</td>\n",
       "      <td>14.694926</td>\n",
       "    </tr>\n",
       "    <tr>\n",
       "      <th>Q</th>\n",
       "      <td>22.850000</td>\n",
       "      <td>10.307833</td>\n",
       "    </tr>\n",
       "    <tr>\n",
       "      <th>S</th>\n",
       "      <td>23.223684</td>\n",
       "      <td>18.670077</td>\n",
       "    </tr>\n",
       "  </tbody>\n",
       "</table>\n",
       "</div>"
      ],
      "text/plain": [
       "                           Age        Fare\n",
       "Sex Pclass Embarked                       \n",
       "0   1      C         40.111111   93.536707\n",
       "           Q         44.000000   90.000000\n",
       "           S         41.897188   52.949947\n",
       "    2      C         25.937500   25.421250\n",
       "           Q         57.000000   12.350000\n",
       "           S         30.875889   19.232474\n",
       "    3      C         25.016800    9.352237\n",
       "           Q         28.142857   11.924251\n",
       "           S         26.574766   13.307149\n",
       "1   1      C         36.052632  115.640309\n",
       "           Q         33.000000   90.000000\n",
       "           S         32.704545   99.026910\n",
       "    2      C         19.142857   25.268457\n",
       "           Q         30.000000   12.350000\n",
       "           S         29.719697   21.912687\n",
       "    3      C         14.062500   14.694926\n",
       "           Q         22.850000   10.307833\n",
       "           S         23.223684   18.670077"
      ]
     },
     "execution_count": 42,
     "metadata": {},
     "output_type": "execute_result"
    }
   ],
   "source": [
    "data_train.groupby(['Sex', 'Pclass', 'Embarked'])['Age', 'Fare'].mean()"
   ]
  },
  {
   "cell_type": "markdown",
   "metadata": {},
   "source": [
    "-----\n",
    "\n",
    "Теперь давайте посмотрим как работает метод **.transform()**:\n",
    "Выше я применял функции mean(), max(), min(), quantile() к числовым признакам, внутри какой то группы в категории,\n",
    "\n",
    "а что если нужной мне функции нет? Тут на помощь приходит метод **.apply()**. Вы можете написать любую нужную вам функцию и использовать конструкцию **groupby().apply(func)**\n",
    "\n",
    "А что же сделает **.transorm()**? Он во всех группах заменит значения на те которые вы получили с помощью groupby().apply(func)\n",
    "\n",
    "Давайте посмотрим на примере:"
   ]
  },
  {
   "cell_type": "code",
   "execution_count": 43,
   "metadata": {
    "ExecuteTime": {
     "end_time": "2019-04-17T07:56:32.931048Z",
     "start_time": "2019-04-17T07:56:32.910202Z"
    }
   },
   "outputs": [
    {
     "data": {
      "text/plain": [
       "Sex  Pclass\n",
       "0    1                       37.0%\n",
       "     2                       16.0%\n",
       "     3         14.000000000000002%\n",
       "1    1                       97.0%\n",
       "     2                       92.0%\n",
       "     3                       50.0%\n",
       "Name: Survived, dtype: object"
      ]
     },
     "execution_count": 43,
     "metadata": {},
     "output_type": "execute_result"
    }
   ],
   "source": [
    "def percent(x):\n",
    "    return str(100* np.round(np.mean(x), 2)) + '%'\n",
    "\n",
    "\n",
    "data_train.groupby(['Sex', 'Pclass'])['Survived'].apply(percent)"
   ]
  },
  {
   "cell_type": "code",
   "execution_count": 44,
   "metadata": {
    "ExecuteTime": {
     "end_time": "2019-04-17T07:56:35.609017Z",
     "start_time": "2019-04-17T07:56:35.587430Z"
    }
   },
   "outputs": [
    {
     "data": {
      "text/plain": [
       "PassengerId\n",
       "1    14.000000000000002%\n",
       "2                  97.0%\n",
       "3                  50.0%\n",
       "4                  97.0%\n",
       "5    14.000000000000002%\n",
       "Name: Survived, dtype: object"
      ]
     },
     "execution_count": 44,
     "metadata": {},
     "output_type": "execute_result"
    }
   ],
   "source": [
    "data_train.groupby(['Sex', 'Pclass'])['Survived'].transform(percent)[:5]"
   ]
  },
  {
   "cell_type": "code",
   "execution_count": 45,
   "metadata": {
    "ExecuteTime": {
     "end_time": "2019-04-17T07:56:38.761015Z",
     "start_time": "2019-04-17T07:56:38.750386Z"
    }
   },
   "outputs": [
    {
     "data": {
      "text/plain": [
       "Sex  Pclass\n",
       "0    1         122\n",
       "     2         108\n",
       "     3         347\n",
       "1    1          94\n",
       "     2          76\n",
       "     3         144\n",
       "Name: Survived, dtype: int64"
      ]
     },
     "execution_count": 45,
     "metadata": {},
     "output_type": "execute_result"
    }
   ],
   "source": [
    "data_train.groupby(['Sex', 'Pclass'])['Survived'].count()"
   ]
  },
  {
   "cell_type": "markdown",
   "metadata": {},
   "source": [
    "Конечно нет никакой нужды сначала использовать apply а потом transform,\n",
    "\n",
    "просто делаете transform\n",
    "\n",
    "---"
   ]
  },
  {
   "cell_type": "markdown",
   "metadata": {},
   "source": [
    "Ну и наконец метод **.fillna()** позволяет заполнить пропущенные значения в\n",
    "\n",
    "столбце/столбцах с использованием какого то значения\n",
    "\n",
    "В примере следите за **6 строкой**:"
   ]
  },
  {
   "cell_type": "code",
   "execution_count": 46,
   "metadata": {
    "ExecuteTime": {
     "end_time": "2019-04-17T07:56:47.269924Z",
     "start_time": "2019-04-17T07:56:47.259182Z"
    }
   },
   "outputs": [
    {
     "data": {
      "text/plain": [
       "PassengerId\n",
       "1     22.0\n",
       "2     38.0\n",
       "3     26.0\n",
       "4     35.0\n",
       "5     35.0\n",
       "6      NaN\n",
       "7     54.0\n",
       "8      2.0\n",
       "9     27.0\n",
       "10    14.0\n",
       "Name: Age, dtype: float64"
      ]
     },
     "execution_count": 46,
     "metadata": {},
     "output_type": "execute_result"
    }
   ],
   "source": [
    "data_train['Age'][:10]"
   ]
  },
  {
   "cell_type": "code",
   "execution_count": 47,
   "metadata": {
    "ExecuteTime": {
     "end_time": "2019-04-17T07:56:52.134227Z",
     "start_time": "2019-04-17T07:56:52.125562Z"
    }
   },
   "outputs": [
    {
     "data": {
      "text/plain": [
       "PassengerId\n",
       "1     22.0\n",
       "2     38.0\n",
       "3     26.0\n",
       "4     35.0\n",
       "5     35.0\n",
       "6      0.0\n",
       "7     54.0\n",
       "8      2.0\n",
       "9     27.0\n",
       "10    14.0\n",
       "Name: Age, dtype: float64"
      ]
     },
     "execution_count": 47,
     "metadata": {},
     "output_type": "execute_result"
    }
   ],
   "source": [
    "data_train['Age'].fillna(0)[:10]"
   ]
  },
  {
   "cell_type": "code",
   "execution_count": 48,
   "metadata": {
    "ExecuteTime": {
     "end_time": "2019-04-17T07:56:53.005739Z",
     "start_time": "2019-04-17T07:56:53.000363Z"
    }
   },
   "outputs": [
    {
     "data": {
      "text/plain": [
       "PassengerId\n",
       "1       22.0\n",
       "2       38.0\n",
       "3       26.0\n",
       "4       35.0\n",
       "5       35.0\n",
       "6     9999.0\n",
       "7       54.0\n",
       "8        2.0\n",
       "9       27.0\n",
       "10      14.0\n",
       "Name: Age, dtype: float64"
      ]
     },
     "execution_count": 48,
     "metadata": {},
     "output_type": "execute_result"
    }
   ],
   "source": [
    "data_train['Age'].fillna(9999)[:10]"
   ]
  },
  {
   "cell_type": "code",
   "execution_count": 49,
   "metadata": {
    "ExecuteTime": {
     "end_time": "2019-04-17T07:56:55.390733Z",
     "start_time": "2019-04-17T07:56:55.385243Z"
    }
   },
   "outputs": [
    {
     "data": {
      "text/plain": [
       "PassengerId\n",
       "1     22.000000\n",
       "2     38.000000\n",
       "3     26.000000\n",
       "4     35.000000\n",
       "5     35.000000\n",
       "6     29.699118\n",
       "7     54.000000\n",
       "8      2.000000\n",
       "9     27.000000\n",
       "10    14.000000\n",
       "Name: Age, dtype: float64"
      ]
     },
     "execution_count": 49,
     "metadata": {},
     "output_type": "execute_result"
    }
   ],
   "source": [
    "data_train['Age'].fillna(np.mean(data_train['Age']))[:10]"
   ]
  },
  {
   "cell_type": "code",
   "execution_count": 50,
   "metadata": {
    "ExecuteTime": {
     "end_time": "2019-04-17T07:56:56.834197Z",
     "start_time": "2019-04-17T07:56:56.826621Z"
    }
   },
   "outputs": [
    {
     "data": {
      "text/plain": [
       "29.69911764705882"
      ]
     },
     "execution_count": 50,
     "metadata": {},
     "output_type": "execute_result"
    }
   ],
   "source": [
    "np.mean(data_train['Age'])"
   ]
  },
  {
   "cell_type": "markdown",
   "metadata": {},
   "source": [
    "### Теперь давайте заполним пропущенные значения в Age средним значением внутри групп по полу\n",
    "\n",
    "То есть у женщин заполним пропуски возраста средним возрастом у женщин,\n",
    "а у мужчин пропуски возраста заполним средним возрастом у мужчин.\n",
    "\n",
    "Здесь вы найдете ответ как это сделать: \n",
    "https://stackoverflow.com/questions/19966018/pandas-filling-missing-values-by-mean-in-each-group\n",
    "\n",
    "скомбинировав groupby, transform и fillna"
   ]
  },
  {
   "cell_type": "code",
   "execution_count": 51,
   "metadata": {
    "ExecuteTime": {
     "end_time": "2019-04-17T07:57:10.833537Z",
     "start_time": "2019-04-17T07:57:10.819157Z"
    },
    "scrolled": true
   },
   "outputs": [
    {
     "data": {
      "text/plain": [
       "PassengerId\n",
       "1      22.000000\n",
       "2      38.000000\n",
       "3      26.000000\n",
       "4      35.000000\n",
       "5      35.000000\n",
       "6      30.726645\n",
       "7      54.000000\n",
       "8       2.000000\n",
       "9      27.000000\n",
       "10     14.000000\n",
       "11      4.000000\n",
       "12     58.000000\n",
       "13     20.000000\n",
       "14     39.000000\n",
       "15     14.000000\n",
       "16     55.000000\n",
       "17      2.000000\n",
       "18     30.726645\n",
       "19     31.000000\n",
       "20     27.915709\n",
       "21     35.000000\n",
       "22     34.000000\n",
       "23     15.000000\n",
       "24     28.000000\n",
       "25      8.000000\n",
       "26     38.000000\n",
       "27     30.726645\n",
       "28     19.000000\n",
       "29     27.915709\n",
       "30     30.726645\n",
       "         ...    \n",
       "862    21.000000\n",
       "863    48.000000\n",
       "864    27.915709\n",
       "865    24.000000\n",
       "866    42.000000\n",
       "867    27.000000\n",
       "868    31.000000\n",
       "869    30.726645\n",
       "870     4.000000\n",
       "871    26.000000\n",
       "872    47.000000\n",
       "873    33.000000\n",
       "874    47.000000\n",
       "875    28.000000\n",
       "876    15.000000\n",
       "877    20.000000\n",
       "878    19.000000\n",
       "879    30.726645\n",
       "880    56.000000\n",
       "881    25.000000\n",
       "882    33.000000\n",
       "883    22.000000\n",
       "884    28.000000\n",
       "885    25.000000\n",
       "886    39.000000\n",
       "887    27.000000\n",
       "888    19.000000\n",
       "889    27.915709\n",
       "890    26.000000\n",
       "891    32.000000\n",
       "Name: Age, Length: 891, dtype: float64"
      ]
     },
     "execution_count": 51,
     "metadata": {},
     "output_type": "execute_result"
    }
   ],
   "source": [
    "data_train.groupby(['Sex'])['Age'].transform(lambda x: x.fillna(x.mean()))"
   ]
  },
  {
   "cell_type": "code",
   "execution_count": 52,
   "metadata": {
    "ExecuteTime": {
     "end_time": "2019-04-17T07:57:13.567423Z",
     "start_time": "2019-04-17T07:57:13.550074Z"
    }
   },
   "outputs": [
    {
     "data": {
      "text/plain": [
       "PassengerId\n",
       "1     22.000000\n",
       "2     38.000000\n",
       "3     26.000000\n",
       "4     35.000000\n",
       "5     35.000000\n",
       "6     30.726645\n",
       "7     54.000000\n",
       "8      2.000000\n",
       "9     27.000000\n",
       "10    14.000000\n",
       "Name: Age, dtype: float64"
      ]
     },
     "execution_count": 52,
     "metadata": {},
     "output_type": "execute_result"
    }
   ],
   "source": [
    "# Заполните пропущенные значения в столбце Age \n",
    "# используя функции groupby, transform и fillna\n",
    "\n",
    "data_train['Age'] = data_train.groupby(['Sex'])['Age'].transform(lambda x: x.fillna(x.mean()))\n",
    "data_train['Age'][:10]"
   ]
  },
  {
   "cell_type": "markdown",
   "metadata": {},
   "source": [
    "### 5.2. Применим шкалирования для Возраста и Цены на билет\n",
    "\n",
    "Для этого воспользуемся классом **StandardScaler** или **MinMaxScaler** из модуля preprocessing\n",
    "пакета sklearn"
   ]
  },
  {
   "cell_type": "code",
   "execution_count": 53,
   "metadata": {
    "ExecuteTime": {
     "end_time": "2019-04-17T07:57:31.238878Z",
     "start_time": "2019-04-17T07:57:31.177092Z"
    }
   },
   "outputs": [],
   "source": [
    "from sklearn.preprocessing import StandardScaler"
   ]
  },
  {
   "cell_type": "code",
   "execution_count": 54,
   "metadata": {
    "ExecuteTime": {
     "end_time": "2019-04-17T07:57:32.602103Z",
     "start_time": "2019-04-17T07:57:32.587345Z"
    }
   },
   "outputs": [
    {
     "data": {
      "text/plain": [
       "array([[-0.59473226, -0.50244517],\n",
       "       [ 0.63531868,  0.78684529],\n",
       "       [-0.28721953, -0.48885426],\n",
       "       ...,\n",
       "       [-0.13994331, -0.17626324],\n",
       "       [-0.28721953, -0.04438104],\n",
       "       [ 0.17404958, -0.49237783]])"
      ]
     },
     "execution_count": 54,
     "metadata": {},
     "output_type": "execute_result"
    }
   ],
   "source": [
    "# создайте объект класса StandardScaler()\n",
    "# и воспользуйтесь методом fit_transform на колонки Age и Fare\n",
    "\n",
    "scaler = StandardScaler()\n",
    "\n",
    "scaler.fit_transform(data_train[['Age', 'Fare']])"
   ]
  },
  {
   "cell_type": "code",
   "execution_count": null,
   "metadata": {},
   "outputs": [],
   "source": []
  },
  {
   "cell_type": "markdown",
   "metadata": {},
   "source": [
    "### 5.3. Объединим пункты 5.1 и 5.2 в единую функцию\n"
   ]
  },
  {
   "cell_type": "code",
   "execution_count": 55,
   "metadata": {
    "ExecuteTime": {
     "end_time": "2019-04-17T07:57:56.763250Z",
     "start_time": "2019-04-17T07:57:56.745077Z"
    }
   },
   "outputs": [],
   "source": [
    "def process_num(df, scaler=None):\n",
    "    \n",
    "    df['Age'] = df.groupby(['Sex'])['Age'].transform(lambda x: x.fillna(x.mean()))\n",
    "    \n",
    "    if scaler is None:\n",
    "        \n",
    "        from sklearn.preprocessing import StandardScaler\n",
    "        scaler = StandardScaler()\n",
    "        scaler.fit(df[['Age', 'Fare']])\n",
    "\n",
    "    \n",
    "    df['Fare'].fillna(df['Fare'].median())\n",
    "    df[['Age', 'Fare']] = scaler.transform(df[['Age', 'Fare']])\n",
    "    \n",
    "    return df, scaler"
   ]
  },
  {
   "cell_type": "code",
   "execution_count": 56,
   "metadata": {
    "ExecuteTime": {
     "end_time": "2019-04-17T07:57:56.953012Z",
     "start_time": "2019-04-17T07:57:56.939537Z"
    }
   },
   "outputs": [],
   "source": [
    "df, scaler = process_num(data_train)"
   ]
  },
  {
   "cell_type": "code",
   "execution_count": 57,
   "metadata": {
    "ExecuteTime": {
     "end_time": "2019-04-17T07:57:57.265412Z",
     "start_time": "2019-04-17T07:57:57.254346Z"
    }
   },
   "outputs": [
    {
     "data": {
      "text/html": [
       "<div>\n",
       "<style scoped>\n",
       "    .dataframe tbody tr th:only-of-type {\n",
       "        vertical-align: middle;\n",
       "    }\n",
       "\n",
       "    .dataframe tbody tr th {\n",
       "        vertical-align: top;\n",
       "    }\n",
       "\n",
       "    .dataframe thead th {\n",
       "        text-align: right;\n",
       "    }\n",
       "</style>\n",
       "<table border=\"1\" class=\"dataframe\">\n",
       "  <thead>\n",
       "    <tr style=\"text-align: right;\">\n",
       "      <th></th>\n",
       "      <th>Age</th>\n",
       "      <th>Fare</th>\n",
       "    </tr>\n",
       "    <tr>\n",
       "      <th>PassengerId</th>\n",
       "      <th></th>\n",
       "      <th></th>\n",
       "    </tr>\n",
       "  </thead>\n",
       "  <tbody>\n",
       "    <tr>\n",
       "      <th>1</th>\n",
       "      <td>-0.594732</td>\n",
       "      <td>-0.502445</td>\n",
       "    </tr>\n",
       "    <tr>\n",
       "      <th>2</th>\n",
       "      <td>0.635319</td>\n",
       "      <td>0.786845</td>\n",
       "    </tr>\n",
       "    <tr>\n",
       "      <th>3</th>\n",
       "      <td>-0.287220</td>\n",
       "      <td>-0.488854</td>\n",
       "    </tr>\n",
       "    <tr>\n",
       "      <th>4</th>\n",
       "      <td>0.404684</td>\n",
       "      <td>0.420730</td>\n",
       "    </tr>\n",
       "    <tr>\n",
       "      <th>5</th>\n",
       "      <td>0.404684</td>\n",
       "      <td>-0.486337</td>\n",
       "    </tr>\n",
       "  </tbody>\n",
       "</table>\n",
       "</div>"
      ],
      "text/plain": [
       "                  Age      Fare\n",
       "PassengerId                    \n",
       "1           -0.594732 -0.502445\n",
       "2            0.635319  0.786845\n",
       "3           -0.287220 -0.488854\n",
       "4            0.404684  0.420730\n",
       "5            0.404684 -0.486337"
      ]
     },
     "execution_count": 57,
     "metadata": {},
     "output_type": "execute_result"
    }
   ],
   "source": [
    "df[['Age', 'Fare']].head()"
   ]
  },
  {
   "cell_type": "code",
   "execution_count": null,
   "metadata": {},
   "outputs": [],
   "source": []
  },
  {
   "cell_type": "markdown",
   "metadata": {},
   "source": [
    "# 6. Обучение моделей и сабмит"
   ]
  },
  {
   "cell_type": "code",
   "execution_count": 58,
   "metadata": {},
   "outputs": [],
   "source": [
    "data_train = pd.read_csv('titanic/train.csv', index_col=0)\n",
    "data_test = pd.read_csv('titanic/test.csv', index_col=0)"
   ]
  },
  {
   "cell_type": "markdown",
   "metadata": {},
   "source": [
    "##### Предобработка"
   ]
  },
  {
   "cell_type": "code",
   "execution_count": 59,
   "metadata": {},
   "outputs": [],
   "source": [
    "# Категориальные признаки\n",
    "cat_features = ['Name', 'Sex', 'Ticket', 'Cabin', 'Embarked', 'Pclass']\n",
    "\n",
    "# Числовые признаки\n",
    "num_features = ['Age', 'Fare', 'SibSp', 'Parch']\n",
    "\n",
    "# Кодирование категориальных признаков\n",
    "def process_cat(df):\n",
    "    \n",
    "    def cabin(val):\n",
    "        if type(val) is str:\n",
    "            return 1\n",
    "        else:\n",
    "            return 0\n",
    "    \n",
    "    def sex(x):\n",
    "        if x == 'male':\n",
    "            return 0\n",
    "        else:\n",
    "            return 1\n",
    "    \n",
    "    df['Name_len'] = df['Name'].apply(len)\n",
    "    df['is_Cabin'] = df['Cabin'].apply(cabin)\n",
    "    df['Sex'] = df['Sex'].apply(sex)    \n",
    "    df = pd.get_dummies(df, columns = ['Embarked', 'Pclass'])\n",
    "    \n",
    "    df.drop(['Name', 'Cabin', 'Ticket'], axis=1, inplace=True)\n",
    "    \n",
    "    return df\n",
    "\n",
    "# Преобразование числовых признаков\n",
    "def process_num(df, scaler=None):\n",
    "    df['Age'] = df.groupby(['Sex'])['Age'].transform(lambda x: x.fillna(x.mean()))\n",
    "\n",
    "    if scaler is None:\n",
    "        scaler = StandardScaler()\n",
    "        scaler.fit(df[['Age', 'Fare']])\n",
    "\n",
    "    df['Fare'].fillna(df['Fare'].median())\n",
    "    df[['Age', 'Fare']] = scaler.transform(df[['Age', 'Fare']])\n",
    "\n",
    "    return df, scaler\n",
    "\n",
    "data_train, _ = process_num(data_train)\n",
    "data_test, _ = process_num(data_test)\n",
    "\n",
    "data_train = process_cat(data_train)\n",
    "data_test = process_cat(data_test)"
   ]
  },
  {
   "cell_type": "markdown",
   "metadata": {},
   "source": [
    "##### Генерация признаков"
   ]
  },
  {
   "cell_type": "code",
   "execution_count": null,
   "metadata": {},
   "outputs": [],
   "source": []
  },
  {
   "cell_type": "markdown",
   "metadata": {},
   "source": [
    "##### Удаление ненужных столбцов"
   ]
  },
  {
   "cell_type": "code",
   "execution_count": null,
   "metadata": {},
   "outputs": [],
   "source": []
  },
  {
   "cell_type": "markdown",
   "metadata": {},
   "source": [
    "##### Переходим к обучению"
   ]
  },
  {
   "cell_type": "code",
   "execution_count": 60,
   "metadata": {},
   "outputs": [],
   "source": [
    "from sklearn.model_selection import train_test_split\n",
    "\n",
    "X = data_train.drop('Survived', axis=1)\n",
    "y = np.array(data_train['Survived'])\n",
    "\n",
    "X_train, X_test, y_train, y_test = train_test_split(X.copy(),y)"
   ]
  },
  {
   "cell_type": "code",
   "execution_count": null,
   "metadata": {},
   "outputs": [],
   "source": []
  },
  {
   "cell_type": "code",
   "execution_count": 61,
   "metadata": {},
   "outputs": [],
   "source": [
    "from sklearn.linear_model import LogisticRegression\n",
    "from sklearn.neighbors import KNeighborsClassifier\n",
    "from sklearn.metrics import accuracy_score, recall_score"
   ]
  },
  {
   "cell_type": "code",
   "execution_count": 62,
   "metadata": {},
   "outputs": [
    {
     "name": "stdout",
     "output_type": "stream",
     "text": [
      "0.8161434977578476\n",
      "0.7668161434977578\n"
     ]
    }
   ],
   "source": [
    "logreg = LogisticRegression(solver='lbfgs', max_iter=1000)\n",
    "logreg.fit(X_train, y_train)\n",
    "print(accuracy_score(y_test, logreg.predict(X_test)))\n",
    "# print(recall_score(y_test, logreg.predict(X_test)))\n",
    "\n",
    "knn = KNeighborsClassifier()\n",
    "knn.fit(X_train, y_train)\n",
    "print(accuracy_score(y_test, knn.predict(X_test)))\n",
    "# print(recall_score(y_test, knn.predict(X_test)))"
   ]
  },
  {
   "cell_type": "code",
   "execution_count": 63,
   "metadata": {},
   "outputs": [],
   "source": [
    "X = data_test"
   ]
  },
  {
   "cell_type": "markdown",
   "metadata": {},
   "source": [
    "##### Предсказание и сохранение ответа для сабмита."
   ]
  },
  {
   "cell_type": "code",
   "execution_count": null,
   "metadata": {},
   "outputs": [],
   "source": [
    "y_pred = logreg.predict(X)"
   ]
  },
  {
   "cell_type": "code",
   "execution_count": 64,
   "metadata": {},
   "outputs": [],
   "source": [
    "# pd.DataFrame({'PassengerId': X.index, 'Survived': y_pred}).to_csv('sub.csv', index=None)"
   ]
  },
  {
   "cell_type": "markdown",
   "metadata": {},
   "source": [
    "Сабмит!"
   ]
  }
 ],
 "metadata": {
  "kernelspec": {
   "display_name": "atom",
   "language": "python",
   "name": "atom"
  },
  "language_info": {
   "codemirror_mode": {
    "name": "ipython",
    "version": 3
   },
   "file_extension": ".py",
   "mimetype": "text/x-python",
   "name": "python",
   "nbconvert_exporter": "python",
   "pygments_lexer": "ipython3",
   "version": "3.7.3"
  }
 },
 "nbformat": 4,
 "nbformat_minor": 2
}
